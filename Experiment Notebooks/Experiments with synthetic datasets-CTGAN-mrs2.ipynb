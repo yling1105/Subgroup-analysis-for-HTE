{
 "cells": [
  {
   "cell_type": "code",
   "execution_count": 1,
   "id": "ac782c04",
   "metadata": {},
   "outputs": [],
   "source": [
    "from rulefit_uplift_forest import CausalRuleEnsembling\n",
    "from sklearn.model_selection import KFold\n",
    "import pandas as pd\n",
    "import numpy as np\n",
    "import random\n",
    "import sdv\n",
    "from sdv.sampling import Condition\n",
    "import torch\n",
    "import pickle\n",
    "from causalml.match import NearestNeighborMatch, create_table_one\n",
    "from sklearn.linear_model import LogisticRegression\n",
    "from sklearn.ensemble import RandomForestClassifier\n",
    "from xgboost import XGBClassifier\n",
    "from sklearn.metrics import roc_auc_score as auc\n",
    "from sklearn import preprocessing\n",
    "from causalml.propensity import ElasticNetPropensityModel\n",
    "from sdmetrics.reports.single_table import QualityReport\n",
    "import seaborn as sns\n",
    "import matplotlib.pyplot as plt"
   ]
  },
  {
   "cell_type": "code",
   "execution_count": 2,
   "id": "4c705222",
   "metadata": {},
   "outputs": [
    {
     "data": {
      "text/plain": [
       "'0.18.0'"
      ]
     },
     "execution_count": 2,
     "metadata": {},
     "output_type": "execute_result"
    }
   ],
   "source": [
    "sdv.__version__"
   ]
  },
  {
   "cell_type": "code",
   "execution_count": 3,
   "id": "7e00c45b",
   "metadata": {},
   "outputs": [],
   "source": [
    "directory = 'temp_data/'\n",
    "df = pd.read_csv(directory + 'imputed_all.csv')\n",
    "df.drop(columns=['Unnamed: 0'], inplace =True)"
   ]
  },
  {
   "cell_type": "code",
   "execution_count": 4,
   "id": "4b25859f",
   "metadata": {},
   "outputs": [],
   "source": [
    "obs = pd.read_csv(directory + 'matched_erich.csv')\n",
    "obs.drop(columns=['Unnamed: 0', 'Unnamed: 0.1', 'score', 'source', 'group'], inplace=True)"
   ]
  },
  {
   "cell_type": "code",
   "execution_count": 5,
   "id": "6810c35f",
   "metadata": {},
   "outputs": [
    {
     "data": {
      "text/plain": [
       "(134, 71)"
      ]
     },
     "execution_count": 5,
     "metadata": {},
     "output_type": "execute_result"
    }
   ],
   "source": [
    "obs.shape"
   ]
  },
  {
   "cell_type": "markdown",
   "id": "a12a66e2",
   "metadata": {},
   "source": [
    "# Functions"
   ]
  },
  {
   "cell_type": "code",
   "execution_count": 6,
   "id": "afd98304",
   "metadata": {},
   "outputs": [],
   "source": [
    "def transform_var(df):\n",
    "    df['age'] = (df['DEMO_AGE'] - np.mean(df['DEMO_AGE'])) / np.std(df['DEMO_AGE'])\n",
    "    df['ich_vol'] = np.log(df['CT1_ICHVOL'] + 1)\n",
    "    df['ivh_vol'] = np.log(df['CT1_IVHVOL'] + 1)\n",
    "    df['gcs'] = (df['GCS_TTL'] - np.mean(df['GCS_TTL'])) / np.std(df['GCS_TTL'])\n",
    "    df['nihss'] = np.log(df['NIHSS_TTL'] + 1)\n",
    "    df['sbp'] = (df['BP_S0'] - np.mean(df['BP_S0'])) / np.std(df['BP_S0'])\n",
    "    df['dbp'] = (df['BP_D0'] - np.mean(df['BP_D0'])) / np.std(df['BP_D0'])\n",
    "    \n",
    "    df['PP'] = df['BP_S0'] - df['BP_D0']\n",
    "    df['MAP'] = df['BP_S0']/3 + df['BP_D0']*2/3\n",
    "    df['pp'] = (df['PP'] -np.mean(df['PP'])) / np.std(df['PP'])\n",
    "    df['map'] = (df['MAP'] - np.mean(df['MAP']))/np.std(df['MAP'])\n",
    "    \n",
    "    df['pc'] = (df['LB_PC'] - np.mean(df['LB_PC'])) / np.std(df['LB_PC'])\n",
    "    df['glucose'] = (df['LB_GLUCOSE'] - np.mean(df['LB_GLUCOSE'])) / np.std(df['LB_GLUCOSE'])\n",
    "    df['sodium'] = (df['LB_SODIUM'] - np.mean(df['LB_SODIUM'])) / np.std(df['LB_SODIUM'])\n",
    "    df['potassium'] = (df['LB_POTASSIUM'] - np.mean(df['LB_POTASSIUM'])) / np.std(df['LB_POTASSIUM'])\n",
    "    df['chloride'] = (df['LB_CHLORIDE'] - np.mean(df['LB_CHLORIDE'])) / np.std(df['LB_CHLORIDE'])\n",
    "    df['cd'] = (df['LB_CD'] - np.mean(df['LB_CD'])) / np.std(df['LB_CD'])\n",
    "    df['bun'] = (df['LB_BUN'] - np.mean(df['LB_BUN'])) / np.std(df['LB_BUN'])\n",
    "    df['hemoglobin'] = (df['LB_HEMOGLOBIN'] - np.mean(df['LB_HEMOGLOBIN'])) / np.std(df['LB_HEMOGLOBIN'])\n",
    "    df['hematocrit'] = (df['LB_HEMATOCRIT'] - np.mean(df['LB_HEMATOCRIT'])) / np.std(df['LB_HEMATOCRIT'])\n",
    "    df['wbc'] = (df['LB_WBC'] - np.mean(df['LB_WBC'])) / np.std(df['LB_WBC'])\n",
    "    df['creatinie'] = (df['LB_CREATINIE'] - np.mean(df['LB_CREATINIE'])) / np.std(df['LB_CREATINIE'])\n",
    "    df['aptt'] = (df['LB_APTT'] - np.mean(df['LB_APTT'])) / np.std(df['LB_APTT'])\n",
    "    df['inr'] = (df['LB_INR'] - np.mean(df['LB_INR'])) / np.std(df['LB_INR'])\n",
    "    \n",
    "    return df"
   ]
  },
  {
   "cell_type": "code",
   "execution_count": 7,
   "id": "c220a710",
   "metadata": {},
   "outputs": [],
   "source": [
    "def test_transform_var(df, train):\n",
    "    # Using the training data to \n",
    "    df['age'] = (df['DEMO_AGE'] - np.mean(train['DEMO_AGE'])) / np.std(train['DEMO_AGE'])\n",
    "    df['ich_vol'] = np.log(df['CT1_ICHVOL'] + 1)\n",
    "    df['ivh_vol'] = np.log(df['CT1_IVHVOL'] + 1)\n",
    "    df['gcs'] = (df['GCS_TTL'] - np.mean(train['GCS_TTL'])) / np.std(train['GCS_TTL'])\n",
    "    df['nihss'] = np.log(df['NIHSS_TTL'] + 1)\n",
    "    df['sbp'] = (df['BP_S0'] - np.mean(train['BP_S0'])) / np.std(train['BP_S0'])\n",
    "    df['dbp'] = (df['BP_D0'] - np.mean(train['BP_D0'])) / np.std(train['BP_D0'])\n",
    "    \n",
    "    df['PP'] = df['BP_S0'] - df['BP_D0']\n",
    "    df['MAP'] = df['BP_S0']/3 + df['BP_D0']*2/3\n",
    "    df['pp'] = (df['PP'] -np.mean(train['PP'])) / np.std(train['PP'])\n",
    "    df['map'] = (df['MAP'] - np.mean(train['MAP']))/np.std(train['MAP'])\n",
    "    \n",
    "    df['pc'] = (df['LB_PC'] - np.mean(train['LB_PC'])) / np.std(train['LB_PC'])\n",
    "    df['glucose'] = (df['LB_GLUCOSE'] - np.mean(train['LB_GLUCOSE'])) / np.std(train['LB_GLUCOSE'])\n",
    "    df['sodium'] = (df['LB_SODIUM'] - np.mean(train['LB_SODIUM'])) / np.std(train['LB_SODIUM'])\n",
    "    df['potassium'] = (df['LB_POTASSIUM'] - np.mean(train['LB_POTASSIUM'])) / np.std(train['LB_POTASSIUM'])\n",
    "    df['chloride'] = (df['LB_CHLORIDE'] - np.mean(train['LB_CHLORIDE'])) / np.std(train['LB_CHLORIDE'])\n",
    "    df['cd'] = (df['LB_CD'] - np.mean(train['LB_CD'])) / np.std(train['LB_CD'])\n",
    "    df['bun'] = (df['LB_BUN'] - np.mean(train['LB_BUN'])) / np.std(train['LB_BUN'])\n",
    "    df['hemoglobin'] = (df['LB_HEMOGLOBIN'] - np.mean(train['LB_HEMOGLOBIN'])) / np.std(train['LB_HEMOGLOBIN'])\n",
    "    df['hematocrit'] = (df['LB_HEMATOCRIT'] - np.mean(train['LB_HEMATOCRIT'])) / np.std(train['LB_HEMATOCRIT'])\n",
    "    df['wbc'] = (df['LB_WBC'] - np.mean(train['LB_WBC'])) / np.std(train['LB_WBC'])\n",
    "    df['creatinie'] = (df['LB_CREATINIE'] - np.mean(train['LB_CREATINIE'])) / np.std(train['LB_CREATINIE'])\n",
    "    df['aptt'] = (df['LB_APTT'] - np.mean(train['LB_APTT'])) / np.std(train['LB_APTT'])\n",
    "    df['inr'] = (df['LB_INR'] - np.mean(train['LB_INR'])) / np.std(train['LB_INR'])\n",
    "    \n",
    "    return df"
   ]
  },
  {
   "cell_type": "code",
   "execution_count": 8,
   "id": "39b78740",
   "metadata": {},
   "outputs": [],
   "source": [
    "pre_treatment_var = ['age', 'ich_vol', 'ivh_vol', 'gcs', 'nihss', 'sbp', 'dbp', 'pp', 'map', \n",
    "                     'RACE_Asian', 'RACE_Black', 'RACE_Other', 'RACE_White', 'GENDER_Male', 'GENDER_Female',\n",
    "                     'ETHNICITY_Hispanic','ETHNICITY_Non-Hispanic',\n",
    "                     \n",
    "                     'HIS_HYPERTENSION', 'HIS_HYPERLIPIDEMIA', 'HIS_DM2',\n",
    "                     'HIS_DM1', 'HIS_HF', 'HIS_AF', 'HIS_PTCA', 'HIS_PV','HIS_MYOCARDIAL', \n",
    "                     'HIS_ANTIDIABETIC', 'HIS_ANTIHYPERTENSIVES',\n",
    "                     \n",
    "                     'CT1_ICHSIDE','ICHLOC_Basal Ganglia', 'ICHLOC_Lobar', 'ICHLOC_Thalamus', 'ICHLOC_Other',\n",
    "                     \n",
    "                     'wbc', 'hemoglobin','hematocrit', 'pc', 'aptt', 'inr', 'glucose',\n",
    "                     'sodium', 'potassium', 'chloride', 'cd', 'bun','creatinie']"
   ]
  },
  {
   "cell_type": "code",
   "execution_count": 9,
   "id": "641d8dd5",
   "metadata": {},
   "outputs": [
    {
     "data": {
      "text/plain": [
       "3506"
      ]
     },
     "execution_count": 9,
     "metadata": {},
     "output_type": "execute_result"
    }
   ],
   "source": [
    "from sdv.tabular import CTGAN\n",
    "trial_temp = df[(df['source'] == 'atach2')&(df['group']=='train')].copy()\n",
    "trial_temp.reset_index(inplace=True, drop=True)\n",
    "erich_temp = df[df['source'] == 'erich'].copy()\n",
    "df_train_syn = pd.concat([trial_temp, erich_temp], axis=0)\n",
    "len(df_train_syn)"
   ]
  },
  {
   "cell_type": "code",
   "execution_count": 10,
   "id": "f5865b65",
   "metadata": {},
   "outputs": [],
   "source": [
    "df_train_syn.drop(columns=['group', 'index'], inplace=True)"
   ]
  },
  {
   "cell_type": "code",
   "execution_count": 11,
   "id": "6f8f9225",
   "metadata": {},
   "outputs": [],
   "source": [
    "# SEED_VALUE = 123\n",
    "# np.random.seed(SEED_VALUE)\n",
    "# torch.manual_seed(SEED_VALUE)\n",
    "# ctgan_model = CTGAN()\n",
    "# ctgan_model.fit(df_train_syn)"
   ]
  },
  {
   "cell_type": "code",
   "execution_count": 12,
   "id": "505054f5",
   "metadata": {},
   "outputs": [],
   "source": [
    "#ctgan_model.save('temp_data/ctgan_comb2.pkl')"
   ]
  },
  {
   "cell_type": "code",
   "execution_count": 11,
   "id": "86676f6c",
   "metadata": {},
   "outputs": [],
   "source": [
    "ctgan_model = CTGAN.load('temp_data/ctgan_comb2.pkl')"
   ]
  },
  {
   "cell_type": "markdown",
   "id": "7702870e",
   "metadata": {},
   "source": [
    "# CTGAN"
   ]
  },
  {
   "cell_type": "code",
   "execution_count": 12,
   "id": "2a4b8e43",
   "metadata": {},
   "outputs": [
    {
     "name": "stderr",
     "output_type": "stream",
     "text": [
      "Sampling conditions: 100%|██████████| 500/500 [00:03<00:00, 127.89it/s]\n",
      "Sampling conditions: 100%|██████████| 500/500 [00:00<00:00, 551.38it/s] \n"
     ]
    }
   ],
   "source": [
    "SEED_VALUE = 11\n",
    "np.random.seed(SEED_VALUE)\n",
    "torch.manual_seed(SEED_VALUE)\n",
    "cond1 = Condition({'TREATMENT':1}, 500)\n",
    "cond2 = Condition({'TREATMENT':0}, 500)\n",
    "\n",
    "new_data_t2 = ctgan_model.sample_conditions(conditions=[cond1])\n",
    "new_data_c2 = ctgan_model.sample_conditions(conditions=[cond2])"
   ]
  },
  {
   "cell_type": "code",
   "execution_count": 13,
   "id": "28999821",
   "metadata": {},
   "outputs": [],
   "source": [
    "syn2 = pd.concat([new_data_t2, new_data_c2])"
   ]
  },
  {
   "cell_type": "code",
   "execution_count": 14,
   "id": "c3042bdf",
   "metadata": {},
   "outputs": [],
   "source": [
    "syn2 = pd.concat([new_data_t2, new_data_c2])\n",
    "syn2.reset_index(drop=True, inplace=True)\n",
    "syn2.to_csv('temp_data/ctgan_syn_new.csv')\n",
    "syn2.drop(columns=['source'], inplace=True)\n",
    "syn2 = pd.get_dummies(syn2)\n",
    "syn2['source'] = ['syn'] * len(syn2)\n",
    "syn2['group'] = ['train']*len(syn2)"
   ]
  },
  {
   "cell_type": "code",
   "execution_count": 15,
   "id": "e07d85a4",
   "metadata": {},
   "outputs": [],
   "source": [
    "df_new = df.copy()\n",
    "df_new.drop(columns=['source', 'group'], inplace=True)\n",
    "df_new = pd.get_dummies(df_new)\n",
    "df_new['source'] = df['source']\n",
    "df_new['group'] = df['group']"
   ]
  },
  {
   "cell_type": "code",
   "execution_count": 16,
   "id": "0cbfb2a7",
   "metadata": {},
   "outputs": [
    {
     "data": {
      "text/plain": [
       "((3706, 49), (1000, 48))"
      ]
     },
     "execution_count": 16,
     "metadata": {},
     "output_type": "execute_result"
    }
   ],
   "source": [
    "df_new.shape, syn2.shape"
   ]
  },
  {
   "cell_type": "code",
   "execution_count": 17,
   "id": "0bb2be63",
   "metadata": {},
   "outputs": [],
   "source": [
    "merge1 = pd.concat([df_new, syn2])"
   ]
  },
  {
   "cell_type": "code",
   "execution_count": 18,
   "id": "8c6cfaa6",
   "metadata": {},
   "outputs": [],
   "source": [
    "trial_train = merge1[(merge1['source'] == 'atach2')&(merge1['group']=='train')].copy()\n",
    "trial_train.reset_index(inplace=True, drop=True)\n",
    "df_test = merge1[merge1['group'] == 'test'].copy()\n",
    "df_train = merge1[merge1['group'] == 'train'].copy()\n",
    "syn = merge1[merge1['source'] == 'syn'].copy()"
   ]
  },
  {
   "cell_type": "code",
   "execution_count": 19,
   "id": "7703b127",
   "metadata": {},
   "outputs": [
    {
     "data": {
      "text/plain": [
       "(134, 49)"
      ]
     },
     "execution_count": 19,
     "metadata": {},
     "output_type": "execute_result"
    }
   ],
   "source": [
    "matched_ids = list(obs['index'])\n",
    "matched_obs = merge1[merge1['index'].isin(matched_ids)]\n",
    "matched_obs.shape"
   ]
  },
  {
   "cell_type": "code",
   "execution_count": 20,
   "id": "551f6142",
   "metadata": {},
   "outputs": [
    {
     "name": "stdout",
     "output_type": "stream",
     "text": [
      "AUC score: 0.588950\n"
     ]
    }
   ],
   "source": [
    "merge_temp1 = pd.concat([trial_train, matched_obs, syn])\n",
    "merge_temp1 = transform_var(merge_temp1)\n",
    "X = np.array(merge_temp1[pre_treatment_var])\n",
    "y = np.array(merge_temp1['TREATMENT'])\n",
    "pm_lgr = LogisticRegression(penalty='none', max_iter=3000)\n",
    "pm_lgr.fit(X, y)\n",
    "clip_bounds = (1e-3, 1-1e-3)\n",
    "score_lgr1 = np.clip(pm_lgr.predict_proba(X)[:, 1], *clip_bounds)\n",
    "print('AUC score: {:.6f}'.format(auc(y, score_lgr1)))"
   ]
  },
  {
   "cell_type": "code",
   "execution_count": 21,
   "id": "ce63776f",
   "metadata": {},
   "outputs": [
    {
     "name": "stdout",
     "output_type": "stream",
     "text": [
      "(500, 74)\n",
      "(500, 74)\n",
      "(397, 74)\n",
      "(537, 74)\n"
     ]
    }
   ],
   "source": [
    "merge_temp1['score'] = score_lgr1\n",
    "t_syn2 = merge_temp1[(merge_temp1['TREATMENT'] == 1) & (merge_temp1['source'] == 'syn')].copy()\n",
    "c_syn2 = merge_temp1[(merge_temp1['TREATMENT'] == 0) & (merge_temp1['source'] == 'syn')].copy()\n",
    "t_real = merge_temp1[(merge_temp1['TREATMENT'] == 1) & (merge_temp1['source'] != 'syn')].copy()\n",
    "c_real = merge_temp1[(merge_temp1['TREATMENT'] == 0) & (merge_temp1['source'] != 'syn')].copy()\n",
    "print(t_syn2.shape), print(c_syn2.shape), print(t_real.shape), print(c_real.shape)\n",
    "\n",
    "temp21 = pd.concat([t_syn2, c_real])\n",
    "temp21['treatment'] = 1 - temp21['TREATMENT']\n",
    "temp21.index = np.arange(0, len(temp21))\n",
    "temp22 = pd.concat([c_syn2, t_real])\n",
    "temp22.index = np.arange(0, len(temp22))\n",
    "\n",
    "# PSM21: use real control to find matched treatment\n",
    "psm21 = NearestNeighborMatch(caliper=0.2, replace=False, ratio=1, random_state=2205)\n",
    "matched_syn21 = psm21.match(data=temp21, treatment_col='treatment',score_cols=['score'])\n",
    "\n",
    "# PSM22: use real treatment to find matched control\n",
    "psm22 = NearestNeighborMatch(caliper=0.2, replace=False, ratio=1, random_state=2205)\n",
    "matched_syn22 = psm22.match(data=temp22, treatment_col='TREATMENT',score_cols=['score'])"
   ]
  },
  {
   "cell_type": "code",
   "execution_count": 22,
   "id": "aebc8042",
   "metadata": {},
   "outputs": [
    {
     "data": {
      "text/plain": [
       "807"
      ]
     },
     "execution_count": 22,
     "metadata": {},
     "output_type": "execute_result"
    }
   ],
   "source": [
    "matched_syn1 = pd.concat([matched_syn21[matched_syn21['TREATMENT'] == 1], matched_syn22[matched_syn22['TREATMENT'] == 0]])\n",
    "len(matched_syn1)"
   ]
  },
  {
   "cell_type": "code",
   "execution_count": 23,
   "id": "b564fb3a",
   "metadata": {},
   "outputs": [
    {
     "data": {
      "text/plain": [
       "(421, 386)"
      ]
     },
     "execution_count": 23,
     "metadata": {},
     "output_type": "execute_result"
    }
   ],
   "source": [
    "len(matched_syn21[matched_syn21['TREATMENT'] == 1]), len(matched_syn22[matched_syn22['TREATMENT'] == 0])"
   ]
  },
  {
   "cell_type": "code",
   "execution_count": 26,
   "id": "f631b849",
   "metadata": {},
   "outputs": [],
   "source": [
    "matched_syn1.to_csv('final_data/ctgan_matched.csv')"
   ]
  },
  {
   "cell_type": "code",
   "execution_count": 24,
   "id": "3e2bb57b",
   "metadata": {},
   "outputs": [
    {
     "name": "stdout",
     "output_type": "stream",
     "text": [
      "AUC score: 0.542606\n"
     ]
    }
   ],
   "source": [
    "merge2 = pd.concat([trial_train, matched_obs, matched_syn1])\n",
    "merge2 = transform_var(merge2)\n",
    "y = np.array(merge2['TREATMENT'])\n",
    "X = merge2[pre_treatment_var].values\n",
    "pm_lgr = LogisticRegression(penalty='none', max_iter=3000)\n",
    "pm_lgr.fit(X, y)\n",
    "clip_bounds = (1e-3, 1-1e-3)\n",
    "score_lgr = np.clip(pm_lgr.predict_proba(X)[:, 1], *clip_bounds)\n",
    "print('AUC score: {:.6f}'.format(auc(y, score_lgr)))"
   ]
  },
  {
   "cell_type": "code",
   "execution_count": 25,
   "id": "f0bfc666",
   "metadata": {},
   "outputs": [
    {
     "data": {
      "text/plain": [
       "(1741, 818, 923)"
      ]
     },
     "execution_count": 25,
     "metadata": {},
     "output_type": "execute_result"
    }
   ],
   "source": [
    "len(merge2), len(merge2[merge2['TREATMENT'] == 1]), len(merge2[merge2['TREATMENT'] == 0])"
   ]
  },
  {
   "cell_type": "code",
   "execution_count": 26,
   "id": "663207fc",
   "metadata": {},
   "outputs": [
    {
     "data": {
      "text/plain": [
       "0.021613043478260874"
      ]
     },
     "execution_count": 26,
     "metadata": {},
     "output_type": "execute_result"
    }
   ],
   "source": [
    "eval_merge_after = create_table_one(merge2, 'TREATMENT', pre_treatment_var)\n",
    "a = 0\n",
    "b = 0\n",
    "# Calculate average smd on ERICH + ATACH2\n",
    "for i in range(len(eval_merge_after['SMD'])):\n",
    "    if (eval_merge_after['SMD'][i] !='') & ~(pd.isna(eval_merge_after['SMD'][i])):\n",
    "        a += abs(eval_merge_after['SMD'][i])\n",
    "        b += 1\n",
    "a/b"
   ]
  },
  {
   "cell_type": "code",
   "execution_count": 27,
   "id": "bb5a8558",
   "metadata": {},
   "outputs": [
    {
     "data": {
      "text/plain": [
       "0.04163043478260869"
      ]
     },
     "execution_count": 27,
     "metadata": {},
     "output_type": "execute_result"
    }
   ],
   "source": [
    "eval_merge_before = create_table_one(merge_temp1, 'TREATMENT', pre_treatment_var)\n",
    "a = 0\n",
    "b = 0\n",
    "# Calculate average smd on ERICH + ATACH2\n",
    "for i in range(len(eval_merge_before['SMD'])):\n",
    "    if (eval_merge_before['SMD'][i] !='') & ~(pd.isna(eval_merge_before['SMD'][i])):\n",
    "        a += abs(eval_merge_before['SMD'][i])\n",
    "        b += 1\n",
    "a/b"
   ]
  },
  {
   "cell_type": "code",
   "execution_count": 28,
   "id": "5c2d7418",
   "metadata": {},
   "outputs": [
    {
     "data": {
      "text/plain": [
       "80"
      ]
     },
     "execution_count": 28,
     "metadata": {},
     "output_type": "execute_result"
    }
   ],
   "source": [
    "a = merge2[merge2['BP_D0'] < 70]\n",
    "sum(a['TREATMENT'])"
   ]
  },
  {
   "cell_type": "markdown",
   "id": "9bc4ef2e",
   "metadata": {},
   "source": [
    "# Experiments after matching"
   ]
  },
  {
   "cell_type": "markdown",
   "id": "88e68c0b",
   "metadata": {},
   "source": [
    "Hyperparameter setting:\n",
    "- n_reg = 5\n",
    "- minimum_sample_leaf = 80\n",
    "- minimum_treatment_sample = 30\n",
    "\n",
    "tree:\n",
    "- n_reg = 5\n",
    "- minimum_sample_leaf = 80\n",
    "- minimum_treatment_sample = 30"
   ]
  },
  {
   "cell_type": "code",
   "execution_count": 29,
   "id": "d4ae942c",
   "metadata": {},
   "outputs": [],
   "source": [
    "test = df_test.copy()\n",
    "test = test_transform_var(test, merge2)\n",
    "train_X = np.array(merge2[pre_treatment_var], dtype=float)\n",
    "test_X = np.array(test[pre_treatment_var], dtype=float)\n",
    "train_treatment=(merge2['TREATMENT']!=0).astype(int).values\n",
    "test_treatment=(test['TREATMENT']!=0).astype(int).values\n",
    "y_train = (merge2['OUTCOME_mRS90']).values\n",
    "y_test = (test['OUTCOME_mRS90']).values\n",
    "y_bin_train = np.array([0] * len(y_train))\n",
    "y_bin_train[np.where(y_train <= 2)] = 1\n",
    "y_bin_test = np.array([0] * len(y_test))\n",
    "y_bin_test[np.where(y_test <= 2)] = 1\n",
    "treatment_train = ['control'] * len(train_treatment)\n",
    "for i in range(len(train_treatment)):\n",
    "    if train_treatment[i] == 1:\n",
    "        treatment_train[i] = 'treatment'\n",
    "treatment_train = np.array(treatment_train)"
   ]
  },
  {
   "cell_type": "code",
   "execution_count": 30,
   "id": "aa7c5f3d",
   "metadata": {},
   "outputs": [
    {
     "data": {
      "text/plain": [
       "96"
      ]
     },
     "execution_count": 30,
     "metadata": {},
     "output_type": "execute_result"
    }
   ],
   "source": [
    "sum(y_bin_test)"
   ]
  },
  {
   "cell_type": "code",
   "execution_count": 31,
   "id": "a910289c",
   "metadata": {},
   "outputs": [
    {
     "data": {
      "text/plain": [
       "((1741, 46), (200, 46))"
      ]
     },
     "execution_count": 31,
     "metadata": {},
     "output_type": "execute_result"
    }
   ],
   "source": [
    "train_X.shape, test_X.shape"
   ]
  },
  {
   "cell_type": "code",
   "execution_count": 32,
   "id": "b04725d8",
   "metadata": {},
   "outputs": [
    {
     "name": "stdout",
     "output_type": "stream",
     "text": [
      "0.1078004394689842\n"
     ]
    }
   ],
   "source": [
    "from uplift_forest_customed import UpliftTreeNew\n",
    "model_tree = UpliftTreeNew(n_reg=5, min_samples_leaf = 80, min_samples_treatment = 30, control_name='control')\n",
    "model_tree.fit(train_X, treatment_train, y_bin_train)\n",
    "a = model_tree.eval_qini(test_X, y_bin_test, test_treatment)\n",
    "print(a)"
   ]
  },
  {
   "cell_type": "code",
   "execution_count": 33,
   "id": "fa1434b9",
   "metadata": {},
   "outputs": [
    {
     "data": {
      "text/plain": [
       "2"
      ]
     },
     "execution_count": 33,
     "metadata": {},
     "output_type": "execute_result"
    }
   ],
   "source": [
    "ctgan_tree_rules = model_tree.get_rules()\n",
    "len(ctgan_tree_rules)"
   ]
  },
  {
   "cell_type": "code",
   "execution_count": 33,
   "id": "2749a7a1",
   "metadata": {
    "scrolled": true
   },
   "outputs": [
    {
     "name": "stdout",
     "output_type": "stream",
     "text": [
      "Seed round: 0 0.17107347702329026\n",
      "Seed round: 1 0.13423374518972836\n"
     ]
    },
    {
     "name": "stderr",
     "output_type": "stream",
     "text": [
      "Objective did not converge. You might want to increase the number of iterations, check the scale of the features or consider increasing regularisation. Duality gap: 3.028e-04, tolerance: 2.601e-04\n"
     ]
    },
    {
     "name": "stdout",
     "output_type": "stream",
     "text": [
      "Seed round: 2 0.10872715731743642\n",
      "Seed round: 3 0.16502489730066236\n",
      "Seed round: 4 0.18398000574590745\n",
      "Seed round: 5 0.15765374076716662\n",
      "Seed round: 6 0.18033589527548938\n",
      "Seed round: 7 0.1964891032277482\n",
      "Seed round: 8 0.16510504749216207\n",
      "Seed round: 9 0.1923657541248148\n",
      "Seed round: 10 0.21276986503034498\n",
      "Seed round: 11 0.16555832812442195\n",
      "Seed round: 12 0.20198853942200012\n",
      "Seed round: 13 0.16485430286186317\n",
      "Seed round: 14 0.23626373776305065\n",
      "Seed round: 15 0.17051791083884016\n",
      "Seed round: 16 0.18349508246089177\n",
      "Seed round: 17 0.2090073472858733\n",
      "Seed round: 18 0.1927701588261261\n",
      "Seed round: 19 0.12687220805294547\n",
      "Seed round: 20 0.2317694612014008\n",
      "Seed round: 21 0.18349269775413965\n",
      "Seed round: 22 0.22360297165188386\n",
      "Seed round: 23 0.1992802502507339\n",
      "Seed round: 24 0.1864707573095941\n",
      "Seed round: 25 0.2208506340652821\n",
      "Seed round: 26 0.20162924231046592\n",
      "Seed round: 27 0.17508887779836332\n",
      "Seed round: 28 0.18248053070224793\n",
      "Seed round: 29 0.14075437318211156\n"
     ]
    }
   ],
   "source": [
    "qini_max2 = -1\n",
    "res2 = {'res_tree':[], 'res_lasso':[], 'num_rules_tree':[], 'num_rules_lasso':[]}\n",
    "num2 = {}\n",
    "for seed in range(0, 30):\n",
    "    \n",
    "    model_temp = CausalRuleEnsembling(\n",
    "         tree_depth = 3, \n",
    "         tree_eval_func = 'KL', \n",
    "         n_reg=5, \n",
    "         n_estimator = 100,   \n",
    "         min_samples_leaf = 80, \n",
    "         min_samples_treatment = 30, \n",
    "         model_type='rl', \n",
    "         lin_standardise=False,\n",
    "         random_state = seed)\n",
    "    model_temp.fit(train_X, treatment_train, y_bin_train, pre_treatment_var)\n",
    "    a, b = model_temp.eval_qini(test_X, y_bin_test, test_treatment)\n",
    "    \n",
    "    res2['res_tree'].append(a)\n",
    "    res2['res_lasso'].append(b)\n",
    "    rules = model_temp.get_rules()\n",
    "    rules0 = rules[rules['type']=='rule']\n",
    "    rules1 = rules0[(rules0['coef'] != 0)]\n",
    "    num_rules_tree = len(rules0)\n",
    "    num_rules_lasso = len(rules1)\n",
    "    res2['num_rules_tree'].append(num_rules_tree)\n",
    "    res2['num_rules_lasso'].append(num_rules_lasso)\n",
    "    rules2 = rules0[abs(rules0['coef']) > 0.005]\n",
    "    rules3 = rules0[rules0['importance'] > 0.001]\n",
    "    res2['num_rules_es'] = len(rules2) # selected by effect size\n",
    "    res2['num_rules_is'] = len(rules3) # selected by importance score\n",
    "    print('Seed round:', seed, b)\n",
    "    if b > qini_max2:\n",
    "        qini_max2 = b\n",
    "        final_model2 = model_temp"
   ]
  },
  {
   "cell_type": "code",
   "execution_count": 34,
   "id": "9eef57c2",
   "metadata": {},
   "outputs": [
    {
     "name": "stdout",
     "output_type": "stream",
     "text": [
      "Seed round: 0 0.17107347702329026\n",
      "Seed round: 1 0.13423374518972836\n"
     ]
    },
    {
     "name": "stderr",
     "output_type": "stream",
     "text": [
      "Objective did not converge. You might want to increase the number of iterations, check the scale of the features or consider increasing regularisation. Duality gap: 3.028e-04, tolerance: 2.601e-04\n"
     ]
    },
    {
     "name": "stdout",
     "output_type": "stream",
     "text": [
      "Seed round: 2 0.10872715731743642\n",
      "Seed round: 3 0.16502489730066236\n",
      "Seed round: 4 0.18398000574590745\n",
      "Seed round: 5 0.15765374076716662\n",
      "Seed round: 6 0.18033589527548938\n",
      "Seed round: 7 0.1964891032277482\n",
      "Seed round: 8 0.16510504749216207\n",
      "Seed round: 9 0.1923657541248148\n",
      "Seed round: 10 0.21276986503034498\n",
      "Seed round: 11 0.16555832812442195\n",
      "Seed round: 12 0.20198853942200012\n",
      "Seed round: 13 0.16485430286186317\n",
      "Seed round: 14 0.23626373776305065\n",
      "Seed round: 15 0.17051791083884016\n",
      "Seed round: 16 0.18349508246089177\n",
      "Seed round: 17 0.2090073472858733\n",
      "Seed round: 18 0.1927701588261261\n",
      "Seed round: 19 0.12687220805294547\n",
      "Seed round: 20 0.2317694612014008\n",
      "Seed round: 21 0.18349269775413965\n",
      "Seed round: 22 0.22360297165188386\n",
      "Seed round: 23 0.1992802502507339\n",
      "Seed round: 24 0.1864707573095941\n",
      "Seed round: 25 0.2208506340652821\n",
      "Seed round: 26 0.20162924231046592\n",
      "Seed round: 27 0.17508887779836332\n",
      "Seed round: 28 0.18248053070224793\n",
      "Seed round: 29 0.14075437318211156\n"
     ]
    }
   ],
   "source": [
    "qini_max2 = -1\n",
    "res2 = {'res_tree':[], 'res_lasso':[], 'num_rules_tree':[], 'num_rules_lasso':[], 'num_rules_es': [], 'num_rules_is': []}\n",
    "num2 = {}\n",
    "rule_tables = []\n",
    "for seed in range(0, 30):\n",
    "    \n",
    "    model_temp = CausalRuleEnsembling(\n",
    "         tree_depth = 3, \n",
    "         tree_eval_func = 'KL', \n",
    "         n_reg=5, \n",
    "         n_estimator = 100,   \n",
    "         min_samples_leaf = 80, \n",
    "         min_samples_treatment = 30, \n",
    "         model_type='rl', \n",
    "         lin_standardise=False,\n",
    "         random_state = seed)\n",
    "    model_temp.fit(train_X, treatment_train, y_bin_train, pre_treatment_var)\n",
    "    a, b = model_temp.eval_qini(test_X, y_bin_test, test_treatment)\n",
    "    \n",
    "    res2['res_tree'].append(a)\n",
    "    res2['res_lasso'].append(b)\n",
    "    rules = model_temp.get_rules()\n",
    "    rules0 = rules[rules['type']=='rule']\n",
    "    rules0['seed'] = [seed] * len(rules0)\n",
    "    rules1 = rules0[(rules0['coef'] != 0)]\n",
    "    num_rules_tree = len(rules0)\n",
    "    num_rules_lasso = len(rules1)\n",
    "    res2['num_rules_tree'].append(num_rules_tree)\n",
    "    res2['num_rules_lasso'].append(num_rules_lasso)\n",
    "    rules2 = rules0[abs(rules0['coef']) > 0.005]\n",
    "    rules3 = rules0[rules0['importance'] > 0.001]\n",
    "    res2['num_rules_es'].append(len(rules2)) # selected by effect size\n",
    "    res2['num_rules_is'].append(len(rules3)) # selected by importance score\n",
    "    rule_tables.append(rules0)\n",
    "    print('Seed round:', seed, b)\n",
    "    if b > qini_max2:\n",
    "        qini_max2 = b\n",
    "        final_model2 = model_temp"
   ]
  },
  {
   "cell_type": "code",
   "execution_count": 35,
   "id": "a8880285",
   "metadata": {},
   "outputs": [
    {
     "data": {
      "text/plain": [
       "(0.18229014930641768, 0.18215020334523288)"
      ]
     },
     "execution_count": 35,
     "metadata": {},
     "output_type": "execute_result"
    }
   ],
   "source": [
    "np.mean(res2['res_tree']),np.mean(res2['res_lasso'])"
   ]
  },
  {
   "cell_type": "code",
   "execution_count": 164,
   "id": "fcbce4b7",
   "metadata": {},
   "outputs": [
    {
     "data": {
      "text/plain": [
       "(0.02959553250235601, 0.029611861909007282)"
      ]
     },
     "execution_count": 164,
     "metadata": {},
     "output_type": "execute_result"
    }
   ],
   "source": [
    "np.std(res2['res_tree']),np.std(res2['res_lasso'])"
   ]
  },
  {
   "cell_type": "code",
   "execution_count": 36,
   "id": "6fe873a1",
   "metadata": {},
   "outputs": [
    {
     "data": {
      "text/plain": [
       "0.23626373776305065"
      ]
     },
     "execution_count": 36,
     "metadata": {},
     "output_type": "execute_result"
    }
   ],
   "source": [
    "qini_max2"
   ]
  },
  {
   "cell_type": "code",
   "execution_count": 171,
   "id": "edf37a4e",
   "metadata": {},
   "outputs": [
    {
     "data": {
      "text/plain": [
       "(221.26666666666668, 6.4701021801994925)"
      ]
     },
     "execution_count": 171,
     "metadata": {},
     "output_type": "execute_result"
    }
   ],
   "source": [
    "np.mean(res2['num_rules_tree']), np.std(res2['num_rules_tree'])"
   ]
  },
  {
   "cell_type": "code",
   "execution_count": 172,
   "id": "57a41afb",
   "metadata": {},
   "outputs": [
    {
     "data": {
      "text/plain": [
       "(195.4, 5.4808758424178885)"
      ]
     },
     "execution_count": 172,
     "metadata": {},
     "output_type": "execute_result"
    }
   ],
   "source": [
    "np.mean(res2['num_rules_lasso']), np.std(res2['num_rules_lasso'])"
   ]
  },
  {
   "cell_type": "code",
   "execution_count": 173,
   "id": "815e9a2a",
   "metadata": {},
   "outputs": [
    {
     "data": {
      "text/plain": [
       "(51.03333333333333, 4.460817065167421)"
      ]
     },
     "execution_count": 173,
     "metadata": {},
     "output_type": "execute_result"
    }
   ],
   "source": [
    "np.mean(res2['num_rules_is']), np.std(res2['num_rules_is'])"
   ]
  },
  {
   "cell_type": "code",
   "execution_count": 174,
   "id": "29bb80d4",
   "metadata": {},
   "outputs": [
    {
     "data": {
      "text/plain": [
       "(9.733333333333333, 2.5681813712344295)"
      ]
     },
     "execution_count": 174,
     "metadata": {},
     "output_type": "execute_result"
    }
   ],
   "source": [
    "np.mean(res2['num_rules_es']), np.std(res2['num_rules_es'])"
   ]
  },
  {
   "cell_type": "code",
   "execution_count": 39,
   "id": "68b9ad95",
   "metadata": {},
   "outputs": [
    {
     "name": "stdout",
     "output_type": "stream",
     "text": [
      "187\n",
      "212\n"
     ]
    }
   ],
   "source": [
    "rules = final_model2.get_rules()\n",
    "rules_ = rules[(rules['coef'] != 0)&(rules['type']=='rule')]\n",
    "print(len(rules_))\n",
    "rules2 = rules[(rules['type']=='rule')]\n",
    "print(len(rules2))"
   ]
  },
  {
   "cell_type": "code",
   "execution_count": 40,
   "id": "4939fcf7",
   "metadata": {},
   "outputs": [
    {
     "data": {
      "text/plain": [
       "(0.23321329020336296, 0.23626373776305065)"
      ]
     },
     "execution_count": 40,
     "metadata": {},
     "output_type": "execute_result"
    }
   ],
   "source": [
    "final_model2.eval_qini(test_X, y_bin_test, test_treatment)"
   ]
  },
  {
   "cell_type": "code",
   "execution_count": 41,
   "id": "917c9af0",
   "metadata": {},
   "outputs": [
    {
     "data": {
      "text/plain": [
       "(818, 923)"
      ]
     },
     "execution_count": 41,
     "metadata": {},
     "output_type": "execute_result"
    }
   ],
   "source": [
    "sum(merge2['TREATMENT']), len(merge2) - sum(merge2['TREATMENT'])"
   ]
  },
  {
   "cell_type": "code",
   "execution_count": 42,
   "id": "c1030e0e",
   "metadata": {},
   "outputs": [
    {
     "data": {
      "text/plain": [
       "1741"
      ]
     },
     "execution_count": 42,
     "metadata": {},
     "output_type": "execute_result"
    }
   ],
   "source": [
    "len(merge2)"
   ]
  },
  {
   "cell_type": "code",
   "execution_count": 178,
   "id": "b77a88c5",
   "metadata": {},
   "outputs": [],
   "source": [
    "rule_tables_all = pd.concat(rule_tables)"
   ]
  },
  {
   "cell_type": "code",
   "execution_count": 179,
   "id": "fb503ca3",
   "metadata": {},
   "outputs": [
    {
     "data": {
      "text/plain": [
       "6638"
      ]
     },
     "execution_count": 179,
     "metadata": {},
     "output_type": "execute_result"
    }
   ],
   "source": [
    "len(rule_tables_all)"
   ]
  },
  {
   "cell_type": "code",
   "execution_count": 181,
   "id": "2d8037ad",
   "metadata": {},
   "outputs": [
    {
     "data": {
      "text/plain": [
       "(array([1.000e+00, 2.000e+00, 0.000e+00, 2.000e+00, 3.000e+00, 3.000e+00,\n",
       "        8.000e+00, 1.000e+01, 2.100e+01, 5.700e+01, 3.950e+02, 1.646e+03,\n",
       "        7.390e+02, 1.587e+03, 1.687e+03, 4.040e+02, 5.100e+01, 1.400e+01,\n",
       "        7.000e+00, 1.000e+00]),\n",
       " array([-2.47545276e-02, -2.28525497e-02, -2.09505717e-02, -1.90485938e-02,\n",
       "        -1.71466159e-02, -1.52446380e-02, -1.33426600e-02, -1.14406821e-02,\n",
       "        -9.53870420e-03, -7.63672628e-03, -5.73474836e-03, -3.83277044e-03,\n",
       "        -1.93079252e-03, -2.88145946e-05,  1.87316333e-03,  3.77514125e-03,\n",
       "         5.67711917e-03,  7.57909709e-03,  9.48107501e-03,  1.13830529e-02,\n",
       "         1.32850309e-02]),\n",
       " <BarContainer object of 20 artists>)"
      ]
     },
     "execution_count": 181,
     "metadata": {},
     "output_type": "execute_result"
    },
    {
     "data": {
      "image/png": "[encoded data removed]",
      "text/plain": [
       "<Figure size 432x288 with 1 Axes>"
      ]
     },
     "metadata": {
      "needs_background": "light"
     },
     "output_type": "display_data"
    }
   ],
   "source": [
    "plt.hist(rule_tables_all['coef'], bins = 20)"
   ]
  },
  {
   "cell_type": "code",
   "execution_count": 183,
   "id": "d4f5daa9",
   "metadata": {},
   "outputs": [
    {
     "data": {
      "text/plain": [
       "1044"
      ]
     },
     "execution_count": 183,
     "metadata": {},
     "output_type": "execute_result"
    }
   ],
   "source": [
    "len(rule_tables_all[rule_tables_all['coef'] > 0.003])"
   ]
  },
  {
   "cell_type": "code",
   "execution_count": 184,
   "id": "a60e752b",
   "metadata": {},
   "outputs": [
    {
     "data": {
      "text/plain": [
       "6638"
      ]
     },
     "execution_count": 184,
     "metadata": {},
     "output_type": "execute_result"
    }
   ],
   "source": [
    "len(rule_tables_all)"
   ]
  },
  {
   "cell_type": "code",
   "execution_count": 185,
   "id": "f28e0c7b",
   "metadata": {},
   "outputs": [],
   "source": [
    "rule_tables_all.to_csv('rule_tables_all.csv')"
   ]
  },
  {
   "cell_type": "code",
   "execution_count": 186,
   "id": "ea233dd5",
   "metadata": {},
   "outputs": [
    {
     "data": {
      "text/html": [
       "<div>\n",
       "<style scoped>\n",
       "    .dataframe tbody tr th:only-of-type {\n",
       "        vertical-align: middle;\n",
       "    }\n",
       "\n",
       "    .dataframe tbody tr th {\n",
       "        vertical-align: top;\n",
       "    }\n",
       "\n",
       "    .dataframe thead th {\n",
       "        text-align: right;\n",
       "    }\n",
       "</style>\n",
       "<table border=\"1\" class=\"dataframe\">\n",
       "  <thead>\n",
       "    <tr style=\"text-align: right;\">\n",
       "      <th></th>\n",
       "      <th>rule</th>\n",
       "      <th>type</th>\n",
       "      <th>coef</th>\n",
       "      <th>Total Number</th>\n",
       "      <th>support</th>\n",
       "      <th>importance</th>\n",
       "      <th>seed</th>\n",
       "    </tr>\n",
       "  </thead>\n",
       "  <tbody>\n",
       "    <tr>\n",
       "      <th>46</th>\n",
       "      <td>dbp &gt;= 0.5996060817008565 &amp; sbp &gt;= 1.223976331...</td>\n",
       "      <td>rule</td>\n",
       "      <td>-0.003271</td>\n",
       "      <td>95</td>\n",
       "      <td>0.054566</td>\n",
       "      <td>0.000743</td>\n",
       "      <td>0</td>\n",
       "    </tr>\n",
       "    <tr>\n",
       "      <th>47</th>\n",
       "      <td>dbp &gt;= -1.1873062569523298 &amp; sbp &lt; 1.223976331...</td>\n",
       "      <td>rule</td>\n",
       "      <td>0.001574</td>\n",
       "      <td>1411</td>\n",
       "      <td>0.810454</td>\n",
       "      <td>0.000617</td>\n",
       "      <td>0</td>\n",
       "    </tr>\n",
       "    <tr>\n",
       "      <th>48</th>\n",
       "      <td>dbp &lt; -1.1873062569523298 &amp; sbp &lt; 1.2239763313...</td>\n",
       "      <td>rule</td>\n",
       "      <td>-0.002689</td>\n",
       "      <td>144</td>\n",
       "      <td>0.082711</td>\n",
       "      <td>0.000741</td>\n",
       "      <td>0</td>\n",
       "    </tr>\n",
       "    <tr>\n",
       "      <th>49</th>\n",
       "      <td>pc &lt; -0.4811434344187665 &amp; dbp &gt;= -1.187306256...</td>\n",
       "      <td>rule</td>\n",
       "      <td>0.001609</td>\n",
       "      <td>464</td>\n",
       "      <td>0.266513</td>\n",
       "      <td>0.000711</td>\n",
       "      <td>0</td>\n",
       "    </tr>\n",
       "    <tr>\n",
       "      <th>50</th>\n",
       "      <td>dbp &lt; -1.1873062569523298 &amp; potassium &gt;= 0.132...</td>\n",
       "      <td>rule</td>\n",
       "      <td>-0.002662</td>\n",
       "      <td>87</td>\n",
       "      <td>0.049971</td>\n",
       "      <td>0.000580</td>\n",
       "      <td>0</td>\n",
       "    </tr>\n",
       "  </tbody>\n",
       "</table>\n",
       "</div>"
      ],
      "text/plain": [
       "                                                 rule  type      coef  \\\n",
       "46  dbp >= 0.5996060817008565 & sbp >= 1.223976331...  rule -0.003271   \n",
       "47  dbp >= -1.1873062569523298 & sbp < 1.223976331...  rule  0.001574   \n",
       "48  dbp < -1.1873062569523298 & sbp < 1.2239763313...  rule -0.002689   \n",
       "49  pc < -0.4811434344187665 & dbp >= -1.187306256...  rule  0.001609   \n",
       "50  dbp < -1.1873062569523298 & potassium >= 0.132...  rule -0.002662   \n",
       "\n",
       "    Total Number   support  importance  seed  \n",
       "46            95  0.054566    0.000743     0  \n",
       "47          1411  0.810454    0.000617     0  \n",
       "48           144  0.082711    0.000741     0  \n",
       "49           464  0.266513    0.000711     0  \n",
       "50            87  0.049971    0.000580     0  "
      ]
     },
     "execution_count": 186,
     "metadata": {},
     "output_type": "execute_result"
    }
   ],
   "source": [
    "rule_tables_all.head()"
   ]
  },
  {
   "cell_type": "code",
   "execution_count": 187,
   "id": "b2a8a800",
   "metadata": {},
   "outputs": [],
   "source": [
    "rule002 = rule_tables_all[rule_tables_all['importance'] > 0.002]\n",
    "rule005 = rule_tables_all[abs(rule_tables_all['coef']) >0.005]"
   ]
  },
  {
   "cell_type": "code",
   "execution_count": 189,
   "id": "116adf30",
   "metadata": {},
   "outputs": [],
   "source": [
    "rule002_count = rule002.groupby(by=['seed']).count()\n",
    "rule005_count = rule005.groupby(by=['seed']).count()"
   ]
  },
  {
   "cell_type": "code",
   "execution_count": 190,
   "id": "48f99730",
   "metadata": {
    "scrolled": true
   },
   "outputs": [
    {
     "data": {
      "text/html": [
       "<div>\n",
       "<style scoped>\n",
       "    .dataframe tbody tr th:only-of-type {\n",
       "        vertical-align: middle;\n",
       "    }\n",
       "\n",
       "    .dataframe tbody tr th {\n",
       "        vertical-align: top;\n",
       "    }\n",
       "\n",
       "    .dataframe thead th {\n",
       "        text-align: right;\n",
       "    }\n",
       "</style>\n",
       "<table border=\"1\" class=\"dataframe\">\n",
       "  <thead>\n",
       "    <tr style=\"text-align: right;\">\n",
       "      <th></th>\n",
       "      <th>rule</th>\n",
       "      <th>type</th>\n",
       "      <th>coef</th>\n",
       "      <th>Total Number</th>\n",
       "      <th>support</th>\n",
       "      <th>importance</th>\n",
       "    </tr>\n",
       "    <tr>\n",
       "      <th>seed</th>\n",
       "      <th></th>\n",
       "      <th></th>\n",
       "      <th></th>\n",
       "      <th></th>\n",
       "      <th></th>\n",
       "      <th></th>\n",
       "    </tr>\n",
       "  </thead>\n",
       "  <tbody>\n",
       "    <tr>\n",
       "      <th>0</th>\n",
       "      <td>4</td>\n",
       "      <td>4</td>\n",
       "      <td>4</td>\n",
       "      <td>4</td>\n",
       "      <td>4</td>\n",
       "      <td>4</td>\n",
       "    </tr>\n",
       "    <tr>\n",
       "      <th>1</th>\n",
       "      <td>6</td>\n",
       "      <td>6</td>\n",
       "      <td>6</td>\n",
       "      <td>6</td>\n",
       "      <td>6</td>\n",
       "      <td>6</td>\n",
       "    </tr>\n",
       "    <tr>\n",
       "      <th>2</th>\n",
       "      <td>3</td>\n",
       "      <td>3</td>\n",
       "      <td>3</td>\n",
       "      <td>3</td>\n",
       "      <td>3</td>\n",
       "      <td>3</td>\n",
       "    </tr>\n",
       "    <tr>\n",
       "      <th>3</th>\n",
       "      <td>2</td>\n",
       "      <td>2</td>\n",
       "      <td>2</td>\n",
       "      <td>2</td>\n",
       "      <td>2</td>\n",
       "      <td>2</td>\n",
       "    </tr>\n",
       "    <tr>\n",
       "      <th>4</th>\n",
       "      <td>2</td>\n",
       "      <td>2</td>\n",
       "      <td>2</td>\n",
       "      <td>2</td>\n",
       "      <td>2</td>\n",
       "      <td>2</td>\n",
       "    </tr>\n",
       "  </tbody>\n",
       "</table>\n",
       "</div>"
      ],
      "text/plain": [
       "      rule  type  coef  Total Number  support  importance\n",
       "seed                                                     \n",
       "0        4     4     4             4        4           4\n",
       "1        6     6     6             6        6           6\n",
       "2        3     3     3             3        3           3\n",
       "3        2     2     2             2        2           2\n",
       "4        2     2     2             2        2           2"
      ]
     },
     "execution_count": 190,
     "metadata": {},
     "output_type": "execute_result"
    }
   ],
   "source": [
    "rule002_count = pd.DataFrame(rule002_count)\n",
    "rule002_count.head()"
   ]
  },
  {
   "cell_type": "code",
   "execution_count": 192,
   "id": "1d5d3cb4",
   "metadata": {},
   "outputs": [
    {
     "data": {
      "text/plain": [
       "(3.6333333333333333, 1.3034143197344767)"
      ]
     },
     "execution_count": 192,
     "metadata": {},
     "output_type": "execute_result"
    }
   ],
   "source": [
    "np.mean(rule002_count['rule']), np.std(rule002_count['rule'])"
   ]
  },
  {
   "cell_type": "code",
   "execution_count": 43,
   "id": "e3493aff",
   "metadata": {},
   "outputs": [],
   "source": [
    "with open('results/ctgan_tree_mrs2.txt', 'w') as filehandle:\n",
    "    for listitem in res2['res_tree']:\n",
    "        filehandle.write(f'{listitem}\\n')\n",
    "        \n",
    "with open('results/ctgan_ensemble_mrs2.txt', 'w') as filehandle:\n",
    "    for listitem in res2['res_lasso']:\n",
    "        filehandle.write(f'{listitem}\\n')"
   ]
  },
  {
   "cell_type": "markdown",
   "id": "e8de21ff",
   "metadata": {},
   "source": [
    "# Extract rule matrix"
   ]
  },
  {
   "cell_type": "code",
   "execution_count": 126,
   "id": "4dcede68",
   "metadata": {},
   "outputs": [],
   "source": [
    "train_X = np.array(merge2[pre_treatment_var])\n",
    "rules_all_X = final_model2.extract_rule_matrix_all(train_X)"
   ]
  },
  {
   "cell_type": "code",
   "execution_count": 127,
   "id": "22e77679",
   "metadata": {},
   "outputs": [],
   "source": [
    "rules_ex_X = final_model2.extract_rule_matrix(train_X)"
   ]
  },
  {
   "cell_type": "code",
   "execution_count": 128,
   "id": "5257cfbd",
   "metadata": {},
   "outputs": [],
   "source": [
    "rules_ex_df = pd.DataFrame(rules_ex_X)\n",
    "rules_all_df = pd.DataFrame(rules_all_X)"
   ]
  },
  {
   "cell_type": "code",
   "execution_count": 129,
   "id": "0b090f20",
   "metadata": {},
   "outputs": [],
   "source": [
    "rules_ex_df = rules_ex_df.loc[:, (rules_ex_df != 0).any(axis=0)]"
   ]
  },
  {
   "cell_type": "code",
   "execution_count": 130,
   "id": "bb90b154",
   "metadata": {},
   "outputs": [
    {
     "data": {
      "text/plain": [
       "((1741, 187), (1741, 212))"
      ]
     },
     "execution_count": 130,
     "metadata": {},
     "output_type": "execute_result"
    }
   ],
   "source": [
    "rules_ex_df.shape, rules_all_df.shape"
   ]
  },
  {
   "cell_type": "code",
   "execution_count": 131,
   "id": "25ebed6a",
   "metadata": {},
   "outputs": [],
   "source": [
    "corr_ex = rules_ex_df.corr()\n",
    "abs_corr_ex = abs(corr_ex.values)\n",
    "abs_lower_ex = np.tril(abs_corr_ex, -1)"
   ]
  },
  {
   "cell_type": "code",
   "execution_count": 132,
   "id": "5e031486",
   "metadata": {},
   "outputs": [],
   "source": [
    "corr_all = rules_all_df[pd.isnull(rules_all_df)==False].corr()\n",
    "abs_corr_all = abs(corr_all.values)\n",
    "abs_lower_all = np.tril(abs_corr_all, -1)"
   ]
  },
  {
   "cell_type": "code",
   "execution_count": 134,
   "id": "a4f7d8b1",
   "metadata": {},
   "outputs": [
    {
     "data": {
      "text/plain": [
       "(0.03725910523161013, 0.0386577869236661)"
      ]
     },
     "execution_count": 134,
     "metadata": {},
     "output_type": "execute_result"
    }
   ],
   "source": [
    "np.mean(abs_lower_ex), np.mean(abs_lower_all)"
   ]
  },
  {
   "cell_type": "code",
   "execution_count": 143,
   "id": "4cbf1ae6",
   "metadata": {},
   "outputs": [],
   "source": [
    "rules = final_model2.get_rules()\n",
    "rules_all_X = final_model2.extract_rule_matrix_all(train_X)"
   ]
  },
  {
   "cell_type": "code",
   "execution_count": 146,
   "id": "e444e659",
   "metadata": {},
   "outputs": [
    {
     "data": {
      "text/html": [
       "<div>\n",
       "<style scoped>\n",
       "    .dataframe tbody tr th:only-of-type {\n",
       "        vertical-align: middle;\n",
       "    }\n",
       "\n",
       "    .dataframe tbody tr th {\n",
       "        vertical-align: top;\n",
       "    }\n",
       "\n",
       "    .dataframe thead th {\n",
       "        text-align: right;\n",
       "    }\n",
       "</style>\n",
       "<table border=\"1\" class=\"dataframe\">\n",
       "  <thead>\n",
       "    <tr style=\"text-align: right;\">\n",
       "      <th></th>\n",
       "      <th>rule</th>\n",
       "      <th>type</th>\n",
       "      <th>coef</th>\n",
       "      <th>Total Number</th>\n",
       "      <th>support</th>\n",
       "      <th>importance</th>\n",
       "    </tr>\n",
       "  </thead>\n",
       "  <tbody>\n",
       "    <tr>\n",
       "      <th>0</th>\n",
       "      <td>age</td>\n",
       "      <td>linear</td>\n",
       "      <td>0.000071</td>\n",
       "      <td>1</td>\n",
       "      <td>0.000069</td>\n",
       "      <td>NaN</td>\n",
       "    </tr>\n",
       "    <tr>\n",
       "      <th>1</th>\n",
       "      <td>ich_vol</td>\n",
       "      <td>linear</td>\n",
       "      <td>-0.000006</td>\n",
       "      <td>1</td>\n",
       "      <td>0.000006</td>\n",
       "      <td>NaN</td>\n",
       "    </tr>\n",
       "    <tr>\n",
       "      <th>2</th>\n",
       "      <td>ivh_vol</td>\n",
       "      <td>linear</td>\n",
       "      <td>0.000000</td>\n",
       "      <td>1</td>\n",
       "      <td>0.000000</td>\n",
       "      <td>NaN</td>\n",
       "    </tr>\n",
       "    <tr>\n",
       "      <th>3</th>\n",
       "      <td>gcs</td>\n",
       "      <td>linear</td>\n",
       "      <td>0.000576</td>\n",
       "      <td>1</td>\n",
       "      <td>0.000576</td>\n",
       "      <td>NaN</td>\n",
       "    </tr>\n",
       "    <tr>\n",
       "      <th>4</th>\n",
       "      <td>nihss</td>\n",
       "      <td>linear</td>\n",
       "      <td>0.000029</td>\n",
       "      <td>1</td>\n",
       "      <td>0.000021</td>\n",
       "      <td>NaN</td>\n",
       "    </tr>\n",
       "    <tr>\n",
       "      <th>...</th>\n",
       "      <td>...</td>\n",
       "      <td>...</td>\n",
       "      <td>...</td>\n",
       "      <td>...</td>\n",
       "      <td>...</td>\n",
       "      <td>...</td>\n",
       "    </tr>\n",
       "    <tr>\n",
       "      <th>253</th>\n",
       "      <td>wbc &lt; 0.15005646249826265 &amp; potassium &lt; -0.760...</td>\n",
       "      <td>rule</td>\n",
       "      <td>-0.003264</td>\n",
       "      <td>128</td>\n",
       "      <td>0.073521</td>\n",
       "      <td>0.000852</td>\n",
       "    </tr>\n",
       "    <tr>\n",
       "      <th>254</th>\n",
       "      <td>aptt &gt;= 0.5069187837145486 &amp; gcs &gt;= -2.2658628...</td>\n",
       "      <td>rule</td>\n",
       "      <td>0.002856</td>\n",
       "      <td>332</td>\n",
       "      <td>0.190695</td>\n",
       "      <td>0.001122</td>\n",
       "    </tr>\n",
       "    <tr>\n",
       "      <th>255</th>\n",
       "      <td>gcs &lt; -2.2658628408161348</td>\n",
       "      <td>rule</td>\n",
       "      <td>-0.002419</td>\n",
       "      <td>85</td>\n",
       "      <td>0.048823</td>\n",
       "      <td>0.000521</td>\n",
       "    </tr>\n",
       "    <tr>\n",
       "      <th>256</th>\n",
       "      <td>pc &lt; -1.360918741874409 &amp; map &gt;= -1.4713906496...</td>\n",
       "      <td>rule</td>\n",
       "      <td>0.001813</td>\n",
       "      <td>83</td>\n",
       "      <td>0.047674</td>\n",
       "      <td>0.000386</td>\n",
       "    </tr>\n",
       "    <tr>\n",
       "      <th>257</th>\n",
       "      <td>map &lt; -1.4713906496669171</td>\n",
       "      <td>rule</td>\n",
       "      <td>-0.004805</td>\n",
       "      <td>87</td>\n",
       "      <td>0.049971</td>\n",
       "      <td>0.001047</td>\n",
       "    </tr>\n",
       "  </tbody>\n",
       "</table>\n",
       "<p>258 rows × 6 columns</p>\n",
       "</div>"
      ],
      "text/plain": [
       "                                                  rule    type      coef  \\\n",
       "0                                                  age  linear  0.000071   \n",
       "1                                              ich_vol  linear -0.000006   \n",
       "2                                              ivh_vol  linear  0.000000   \n",
       "3                                                  gcs  linear  0.000576   \n",
       "4                                                nihss  linear  0.000029   \n",
       "..                                                 ...     ...       ...   \n",
       "253  wbc < 0.15005646249826265 & potassium < -0.760...    rule -0.003264   \n",
       "254  aptt >= 0.5069187837145486 & gcs >= -2.2658628...    rule  0.002856   \n",
       "255                          gcs < -2.2658628408161348    rule -0.002419   \n",
       "256  pc < -1.360918741874409 & map >= -1.4713906496...    rule  0.001813   \n",
       "257                          map < -1.4713906496669171    rule -0.004805   \n",
       "\n",
       "     Total Number   support  importance  \n",
       "0               1  0.000069         NaN  \n",
       "1               1  0.000006         NaN  \n",
       "2               1  0.000000         NaN  \n",
       "3               1  0.000576         NaN  \n",
       "4               1  0.000021         NaN  \n",
       "..            ...       ...         ...  \n",
       "253           128  0.073521    0.000852  \n",
       "254           332  0.190695    0.001122  \n",
       "255            85  0.048823    0.000521  \n",
       "256            83  0.047674    0.000386  \n",
       "257            87  0.049971    0.001047  \n",
       "\n",
       "[258 rows x 6 columns]"
      ]
     },
     "execution_count": 146,
     "metadata": {},
     "output_type": "execute_result"
    }
   ],
   "source": [
    "rules"
   ]
  },
  {
   "cell_type": "code",
   "execution_count": 147,
   "id": "4e0b4cf7",
   "metadata": {},
   "outputs": [],
   "source": [
    "rules_r = rules[rules['type']=='rule']\n",
    "rules_r.index = np.arange(0, len(rules_r))"
   ]
  },
  {
   "cell_type": "code",
   "execution_count": 149,
   "id": "5fe84975",
   "metadata": {},
   "outputs": [
    {
     "data": {
      "text/plain": [
       "((1741, 212), (212, 6))"
      ]
     },
     "execution_count": 149,
     "metadata": {},
     "output_type": "execute_result"
    }
   ],
   "source": [
    "rules_all_X.shape, rules_r.shape"
   ]
  },
  {
   "cell_type": "code",
   "execution_count": 150,
   "id": "7df98f55",
   "metadata": {},
   "outputs": [],
   "source": [
    "# Extract top 5 positive rules and top 5 negative rules\n",
    "top_p = rules_r[rules_r['coef'] > 0].sort_values(\"importance\", ascending=False).head(5).index\n",
    "top_n = rules_r[rules_r['coef'] < 0].sort_values(\"importance\", ascending=False).head(5).index"
   ]
  },
  {
   "cell_type": "code",
   "execution_count": 153,
   "id": "d927a122",
   "metadata": {},
   "outputs": [],
   "source": [
    "top_rules = list(top_p) + list(top_n)"
   ]
  },
  {
   "cell_type": "code",
   "execution_count": 154,
   "id": "c85e9b03",
   "metadata": {},
   "outputs": [],
   "source": [
    "rules_top_X = rules_all_X[:, top_rules]"
   ]
  },
  {
   "cell_type": "code",
   "execution_count": 156,
   "id": "9db6f95d",
   "metadata": {},
   "outputs": [
    {
     "data": {
      "text/plain": [
       "(1741, 10)"
      ]
     },
     "execution_count": 156,
     "metadata": {},
     "output_type": "execute_result"
    }
   ],
   "source": [
    "rules_top_X.shape"
   ]
  },
  {
   "cell_type": "code",
   "execution_count": 158,
   "id": "8caabc14",
   "metadata": {},
   "outputs": [
    {
     "data": {
      "text/plain": [
       "0.12935437375449305"
      ]
     },
     "execution_count": 158,
     "metadata": {},
     "output_type": "execute_result"
    }
   ],
   "source": [
    "rules_top_df = pd.DataFrame(rules_top_X)\n",
    "corr_top = rules_top_df.corr()\n",
    "abs_corr_top = abs(corr_top.values)\n",
    "abs_lower_top = np.tril(abs_corr_top, -1)\n",
    "np.mean(abs_lower_top)"
   ]
  },
  {
   "cell_type": "markdown",
   "id": "e75fee9d",
   "metadata": {},
   "source": [
    "# Rule reformatting"
   ]
  },
  {
   "cell_type": "code",
   "execution_count": 52,
   "id": "fcc7a689",
   "metadata": {},
   "outputs": [],
   "source": [
    "rules_sorted = rules_[rules_.coef != 0].sort_values(\"importance\", ascending=False)"
   ]
  },
  {
   "cell_type": "code",
   "execution_count": 161,
   "id": "7e71104d",
   "metadata": {},
   "outputs": [
    {
     "data": {
      "text/plain": [
       "count    1.870000e+02\n",
       "mean     8.666883e-04\n",
       "std      4.451179e-04\n",
       "min      5.595580e-07\n",
       "25%      6.357725e-04\n",
       "50%      8.230473e-04\n",
       "75%      1.011979e-03\n",
       "max      3.450880e-03\n",
       "Name: importance, dtype: float64"
      ]
     },
     "execution_count": 161,
     "metadata": {},
     "output_type": "execute_result"
    }
   ],
   "source": [
    "rules_sorted['importance'].describe()"
   ]
  },
  {
   "cell_type": "code",
   "execution_count": 53,
   "id": "0ecac4c8",
   "metadata": {},
   "outputs": [],
   "source": [
    "positive_rules = rules[rules['coef'] > 0]\n",
    "positive_sorted = positive_rules.sort_values(\"importance\", ascending=False)\n",
    "positive_sorted.index = np.arange(0, len(positive_sorted))\n",
    "negative_rules = rules[rules['coef'] < 0]\n",
    "negative_sorted = negative_rules.sort_values('importance', ascending=False)\n",
    "negative_sorted.index = np.arange(0, len(negative_sorted))"
   ]
  },
  {
   "cell_type": "code",
   "execution_count": 159,
   "id": "1564db2e",
   "metadata": {},
   "outputs": [
    {
     "data": {
      "text/plain": [
       "count    105.000000\n",
       "mean       0.002634\n",
       "std        0.002154\n",
       "min        0.000002\n",
       "25%        0.001617\n",
       "50%        0.002473\n",
       "75%        0.003257\n",
       "max        0.016661\n",
       "Name: coef, dtype: float64"
      ]
     },
     "execution_count": 159,
     "metadata": {},
     "output_type": "execute_result"
    }
   ],
   "source": [
    "positive_sorted['coef'].describe()"
   ]
  },
  {
   "cell_type": "code",
   "execution_count": null,
   "id": "e9d100d1",
   "metadata": {},
   "outputs": [],
   "source": [
    "positive_sorted['coef'].describe()"
   ]
  },
  {
   "cell_type": "code",
   "execution_count": 160,
   "id": "5ea4d0c8",
   "metadata": {},
   "outputs": [
    {
     "data": {
      "text/plain": [
       "count    9.300000e+01\n",
       "mean     9.220213e-04\n",
       "std      5.281909e-04\n",
       "min      5.595580e-07\n",
       "25%      6.381770e-04\n",
       "50%      8.232225e-04\n",
       "75%      1.121565e-03\n",
       "max      3.450880e-03\n",
       "Name: importance, dtype: float64"
      ]
     },
     "execution_count": 160,
     "metadata": {},
     "output_type": "execute_result"
    }
   ],
   "source": [
    "positive_sorted['importance'].describe()"
   ]
  },
  {
   "cell_type": "code",
   "execution_count": 54,
   "id": "bb795624",
   "metadata": {},
   "outputs": [],
   "source": [
    "a = positive_sorted.iloc[:10, :]"
   ]
  },
  {
   "cell_type": "code",
   "execution_count": 55,
   "id": "02e53e43",
   "metadata": {},
   "outputs": [],
   "source": [
    "b = negative_sorted.iloc[:10, :]"
   ]
  },
  {
   "cell_type": "code",
   "execution_count": 56,
   "id": "1223941e",
   "metadata": {},
   "outputs": [
    {
     "data": {
      "text/html": [
       "<div>\n",
       "<style scoped>\n",
       "    .dataframe tbody tr th:only-of-type {\n",
       "        vertical-align: middle;\n",
       "    }\n",
       "\n",
       "    .dataframe tbody tr th {\n",
       "        vertical-align: top;\n",
       "    }\n",
       "\n",
       "    .dataframe thead th {\n",
       "        text-align: right;\n",
       "    }\n",
       "</style>\n",
       "<table border=\"1\" class=\"dataframe\">\n",
       "  <thead>\n",
       "    <tr style=\"text-align: right;\">\n",
       "      <th></th>\n",
       "      <th>rule</th>\n",
       "      <th>type</th>\n",
       "      <th>coef</th>\n",
       "      <th>Total Number</th>\n",
       "      <th>support</th>\n",
       "      <th>importance</th>\n",
       "    </tr>\n",
       "  </thead>\n",
       "  <tbody>\n",
       "    <tr>\n",
       "      <th>0</th>\n",
       "      <td>dbp &gt;= -1.147597093871148 &amp; sbp &lt; 1.3762474392...</td>\n",
       "      <td>rule</td>\n",
       "      <td>0.008964</td>\n",
       "      <td>1426</td>\n",
       "      <td>0.819070</td>\n",
       "      <td>0.003451</td>\n",
       "    </tr>\n",
       "    <tr>\n",
       "      <th>1</th>\n",
       "      <td>ICHLOC_Other &lt; 0.1 &amp; dbp &gt;= -1.147597093871148</td>\n",
       "      <td>rule</td>\n",
       "      <td>0.008370</td>\n",
       "      <td>1479</td>\n",
       "      <td>0.849512</td>\n",
       "      <td>0.002993</td>\n",
       "    </tr>\n",
       "    <tr>\n",
       "      <th>2</th>\n",
       "      <td>nihss &gt;= 1.3862943611198906 &amp; dbp &gt;= -1.147597...</td>\n",
       "      <td>rule</td>\n",
       "      <td>0.005721</td>\n",
       "      <td>1444</td>\n",
       "      <td>0.829408</td>\n",
       "      <td>0.002152</td>\n",
       "    </tr>\n",
       "    <tr>\n",
       "      <th>3</th>\n",
       "      <td>hemoglobin &lt; -0.7905265706476053 &amp; dbp &gt;= -1.1...</td>\n",
       "      <td>rule</td>\n",
       "      <td>0.005438</td>\n",
       "      <td>296</td>\n",
       "      <td>0.170017</td>\n",
       "      <td>0.002043</td>\n",
       "    </tr>\n",
       "    <tr>\n",
       "      <th>4</th>\n",
       "      <td>dbp &gt;= -1.147597093871148 &amp; dbp &lt; 1.9100084633...</td>\n",
       "      <td>rule</td>\n",
       "      <td>0.005150</td>\n",
       "      <td>1489</td>\n",
       "      <td>0.855256</td>\n",
       "      <td>0.001812</td>\n",
       "    </tr>\n",
       "    <tr>\n",
       "      <th>5</th>\n",
       "      <td>pc &lt; -0.4799119460264714 &amp; creatinie &gt;= -0.459...</td>\n",
       "      <td>rule</td>\n",
       "      <td>0.004089</td>\n",
       "      <td>417</td>\n",
       "      <td>0.239518</td>\n",
       "      <td>0.001745</td>\n",
       "    </tr>\n",
       "    <tr>\n",
       "      <th>6</th>\n",
       "      <td>ICHLOC_Basal Ganglia &gt;= 0.1 &amp; pp &lt; 0.733425710...</td>\n",
       "      <td>rule</td>\n",
       "      <td>0.003813</td>\n",
       "      <td>517</td>\n",
       "      <td>0.296956</td>\n",
       "      <td>0.001742</td>\n",
       "    </tr>\n",
       "    <tr>\n",
       "      <th>7</th>\n",
       "      <td>cd &gt;= 0.030247060583091158 &amp; nihss &gt;= 3.044522...</td>\n",
       "      <td>rule</td>\n",
       "      <td>0.006866</td>\n",
       "      <td>111</td>\n",
       "      <td>0.063756</td>\n",
       "      <td>0.001678</td>\n",
       "    </tr>\n",
       "    <tr>\n",
       "      <th>8</th>\n",
       "      <td>pc &lt; -0.5057732022646692 &amp; glucose &lt; 0.4256016...</td>\n",
       "      <td>rule</td>\n",
       "      <td>0.003518</td>\n",
       "      <td>412</td>\n",
       "      <td>0.236646</td>\n",
       "      <td>0.001495</td>\n",
       "    </tr>\n",
       "    <tr>\n",
       "      <th>9</th>\n",
       "      <td>cd &gt;= 0.6721176443331565 &amp; potassium &lt; 0.26046...</td>\n",
       "      <td>rule</td>\n",
       "      <td>0.003943</td>\n",
       "      <td>270</td>\n",
       "      <td>0.155083</td>\n",
       "      <td>0.001427</td>\n",
       "    </tr>\n",
       "  </tbody>\n",
       "</table>\n",
       "</div>"
      ],
      "text/plain": [
       "                                                rule  type      coef  \\\n",
       "0  dbp >= -1.147597093871148 & sbp < 1.3762474392...  rule  0.008964   \n",
       "1     ICHLOC_Other < 0.1 & dbp >= -1.147597093871148  rule  0.008370   \n",
       "2  nihss >= 1.3862943611198906 & dbp >= -1.147597...  rule  0.005721   \n",
       "3  hemoglobin < -0.7905265706476053 & dbp >= -1.1...  rule  0.005438   \n",
       "4  dbp >= -1.147597093871148 & dbp < 1.9100084633...  rule  0.005150   \n",
       "5  pc < -0.4799119460264714 & creatinie >= -0.459...  rule  0.004089   \n",
       "6  ICHLOC_Basal Ganglia >= 0.1 & pp < 0.733425710...  rule  0.003813   \n",
       "7  cd >= 0.030247060583091158 & nihss >= 3.044522...  rule  0.006866   \n",
       "8  pc < -0.5057732022646692 & glucose < 0.4256016...  rule  0.003518   \n",
       "9  cd >= 0.6721176443331565 & potassium < 0.26046...  rule  0.003943   \n",
       "\n",
       "   Total Number   support  importance  \n",
       "0          1426  0.819070    0.003451  \n",
       "1          1479  0.849512    0.002993  \n",
       "2          1444  0.829408    0.002152  \n",
       "3           296  0.170017    0.002043  \n",
       "4          1489  0.855256    0.001812  \n",
       "5           417  0.239518    0.001745  \n",
       "6           517  0.296956    0.001742  \n",
       "7           111  0.063756    0.001678  \n",
       "8           412  0.236646    0.001495  \n",
       "9           270  0.155083    0.001427  "
      ]
     },
     "execution_count": 56,
     "metadata": {},
     "output_type": "execute_result"
    }
   ],
   "source": [
    "a"
   ]
  },
  {
   "cell_type": "code",
   "execution_count": 78,
   "id": "188135d9",
   "metadata": {},
   "outputs": [
    {
     "data": {
      "text/plain": [
       "'dbp >= -1.147597093871148 & dbp < 1.91000846337986'"
      ]
     },
     "execution_count": 78,
     "metadata": {},
     "output_type": "execute_result"
    }
   ],
   "source": [
    "a.loc[4, 'rule']"
   ]
  },
  {
   "cell_type": "code",
   "execution_count": 66,
   "id": "4c98b05b",
   "metadata": {},
   "outputs": [
    {
     "data": {
      "text/plain": [
       "214.9984422754759"
      ]
     },
     "execution_count": 66,
     "metadata": {},
     "output_type": "execute_result"
    }
   ],
   "source": [
    "1.3762 * np.std(merge2['BP_S0']) + np.mean(merge2['BP_S0'])"
   ]
  },
  {
   "cell_type": "code",
   "execution_count": 79,
   "id": "e624d032",
   "metadata": {},
   "outputs": [
    {
     "data": {
      "text/plain": [
       "146.9997868658213"
      ]
     },
     "execution_count": 79,
     "metadata": {},
     "output_type": "execute_result"
    }
   ],
   "source": [
    "1.91 * np.std(merge2['BP_D0']) + np.mean(merge2['BP_D0'])"
   ]
  },
  {
   "cell_type": "code",
   "execution_count": 68,
   "id": "151d2d1e",
   "metadata": {},
   "outputs": [
    {
     "data": {
      "text/plain": [
       "12.500053859980708"
      ]
     },
     "execution_count": 68,
     "metadata": {},
     "output_type": "execute_result"
    }
   ],
   "source": [
    "-0.7905*np.std(merge2['LB_HEMOGLOBIN']) + np.mean(merge2['LB_HEMOGLOBIN'])"
   ]
  },
  {
   "cell_type": "code",
   "execution_count": 110,
   "id": "5eaa68fe",
   "metadata": {},
   "outputs": [
    {
     "data": {
      "text/plain": [
       "3.0000225555840316"
      ]
     },
     "execution_count": 110,
     "metadata": {},
     "output_type": "execute_result"
    }
   ],
   "source": [
    "np.exp(1.3863) - 1"
   ]
  },
  {
   "cell_type": "code",
   "execution_count": 109,
   "id": "bc827ac0",
   "metadata": {},
   "outputs": [
    {
     "data": {
      "text/plain": [
       "71.00070606229858"
      ]
     },
     "execution_count": 109,
     "metadata": {},
     "output_type": "execute_result"
    }
   ],
   "source": [
    "-1.0846 * np.std(merge2['BP_D0']) + np.mean(merge2['BP_D0'])"
   ]
  },
  {
   "cell_type": "code",
   "execution_count": 57,
   "id": "4c6f7a57",
   "metadata": {
    "scrolled": true
   },
   "outputs": [
    {
     "data": {
      "text/html": [
       "<div>\n",
       "<style scoped>\n",
       "    .dataframe tbody tr th:only-of-type {\n",
       "        vertical-align: middle;\n",
       "    }\n",
       "\n",
       "    .dataframe tbody tr th {\n",
       "        vertical-align: top;\n",
       "    }\n",
       "\n",
       "    .dataframe thead th {\n",
       "        text-align: right;\n",
       "    }\n",
       "</style>\n",
       "<table border=\"1\" class=\"dataframe\">\n",
       "  <thead>\n",
       "    <tr style=\"text-align: right;\">\n",
       "      <th></th>\n",
       "      <th>rule</th>\n",
       "      <th>type</th>\n",
       "      <th>coef</th>\n",
       "      <th>Total Number</th>\n",
       "      <th>support</th>\n",
       "      <th>importance</th>\n",
       "    </tr>\n",
       "  </thead>\n",
       "  <tbody>\n",
       "    <tr>\n",
       "      <th>0</th>\n",
       "      <td>hemoglobin &gt;= -0.7905265706476053 &amp; ICHLOC_Bas...</td>\n",
       "      <td>rule</td>\n",
       "      <td>-0.004636</td>\n",
       "      <td>869</td>\n",
       "      <td>0.499138</td>\n",
       "      <td>0.002318</td>\n",
       "    </tr>\n",
       "    <tr>\n",
       "      <th>1</th>\n",
       "      <td>dbp &lt; -1.147597093871148</td>\n",
       "      <td>rule</td>\n",
       "      <td>-0.006303</td>\n",
       "      <td>159</td>\n",
       "      <td>0.091327</td>\n",
       "      <td>0.001816</td>\n",
       "    </tr>\n",
       "    <tr>\n",
       "      <th>2</th>\n",
       "      <td>dbp &lt; -1.3858520723582395</td>\n",
       "      <td>rule</td>\n",
       "      <td>-0.007700</td>\n",
       "      <td>83</td>\n",
       "      <td>0.047674</td>\n",
       "      <td>0.001641</td>\n",
       "    </tr>\n",
       "    <tr>\n",
       "      <th>3</th>\n",
       "      <td>map &lt; -0.8621785659626651 &amp; cd &gt;= -0.451155877...</td>\n",
       "      <td>rule</td>\n",
       "      <td>-0.004085</td>\n",
       "      <td>244</td>\n",
       "      <td>0.140149</td>\n",
       "      <td>0.001418</td>\n",
       "    </tr>\n",
       "    <tr>\n",
       "      <th>4</th>\n",
       "      <td>pc &gt;= -0.5057732022646692 &amp; hematocrit &gt;= -1.1...</td>\n",
       "      <td>rule</td>\n",
       "      <td>-0.002774</td>\n",
       "      <td>1106</td>\n",
       "      <td>0.635267</td>\n",
       "      <td>0.001335</td>\n",
       "    </tr>\n",
       "    <tr>\n",
       "      <th>5</th>\n",
       "      <td>age &lt; -0.5297135786169122 &amp; creatinie &lt; 0.0005...</td>\n",
       "      <td>rule</td>\n",
       "      <td>-0.002938</td>\n",
       "      <td>395</td>\n",
       "      <td>0.226881</td>\n",
       "      <td>0.001231</td>\n",
       "    </tr>\n",
       "    <tr>\n",
       "      <th>6</th>\n",
       "      <td>pc &gt;= -0.5291714817182768 &amp; bun &gt;= -0.81312864...</td>\n",
       "      <td>rule</td>\n",
       "      <td>-0.002498</td>\n",
       "      <td>1100</td>\n",
       "      <td>0.631821</td>\n",
       "      <td>0.001205</td>\n",
       "    </tr>\n",
       "    <tr>\n",
       "      <th>7</th>\n",
       "      <td>aptt &lt; -0.3855362306770197 &amp; nihss &gt;= 1.791759...</td>\n",
       "      <td>rule</td>\n",
       "      <td>-0.002805</td>\n",
       "      <td>423</td>\n",
       "      <td>0.242964</td>\n",
       "      <td>0.001203</td>\n",
       "    </tr>\n",
       "    <tr>\n",
       "      <th>8</th>\n",
       "      <td>pp &gt;= 0.6792798754487963 &amp; HIS_DM2 &lt; 0.1</td>\n",
       "      <td>rule</td>\n",
       "      <td>-0.003286</td>\n",
       "      <td>261</td>\n",
       "      <td>0.149914</td>\n",
       "      <td>0.001173</td>\n",
       "    </tr>\n",
       "    <tr>\n",
       "      <th>9</th>\n",
       "      <td>sbp &gt;= -0.5728227422799363 &amp; map &gt;= 1.43759705...</td>\n",
       "      <td>rule</td>\n",
       "      <td>-0.004417</td>\n",
       "      <td>130</td>\n",
       "      <td>0.074670</td>\n",
       "      <td>0.001161</td>\n",
       "    </tr>\n",
       "  </tbody>\n",
       "</table>\n",
       "</div>"
      ],
      "text/plain": [
       "                                                rule  type      coef  \\\n",
       "0  hemoglobin >= -0.7905265706476053 & ICHLOC_Bas...  rule -0.004636   \n",
       "1                           dbp < -1.147597093871148  rule -0.006303   \n",
       "2                          dbp < -1.3858520723582395  rule -0.007700   \n",
       "3  map < -0.8621785659626651 & cd >= -0.451155877...  rule -0.004085   \n",
       "4  pc >= -0.5057732022646692 & hematocrit >= -1.1...  rule -0.002774   \n",
       "5  age < -0.5297135786169122 & creatinie < 0.0005...  rule -0.002938   \n",
       "6  pc >= -0.5291714817182768 & bun >= -0.81312864...  rule -0.002498   \n",
       "7  aptt < -0.3855362306770197 & nihss >= 1.791759...  rule -0.002805   \n",
       "8           pp >= 0.6792798754487963 & HIS_DM2 < 0.1  rule -0.003286   \n",
       "9  sbp >= -0.5728227422799363 & map >= 1.43759705...  rule -0.004417   \n",
       "\n",
       "   Total Number   support  importance  \n",
       "0           869  0.499138    0.002318  \n",
       "1           159  0.091327    0.001816  \n",
       "2            83  0.047674    0.001641  \n",
       "3           244  0.140149    0.001418  \n",
       "4          1106  0.635267    0.001335  \n",
       "5           395  0.226881    0.001231  \n",
       "6          1100  0.631821    0.001205  \n",
       "7           423  0.242964    0.001203  \n",
       "8           261  0.149914    0.001173  \n",
       "9           130  0.074670    0.001161  "
      ]
     },
     "execution_count": 57,
     "metadata": {},
     "output_type": "execute_result"
    }
   ],
   "source": [
    "b"
   ]
  },
  {
   "cell_type": "code",
   "execution_count": 106,
   "id": "3e95708f",
   "metadata": {},
   "outputs": [
    {
     "data": {
      "text/plain": [
       "'pc >= -0.5057732022646692 & hematocrit >= -1.1085110269146483'"
      ]
     },
     "execution_count": 106,
     "metadata": {},
     "output_type": "execute_result"
    }
   ],
   "source": [
    "b.loc[4, 'rule']"
   ]
  },
  {
   "cell_type": "code",
   "execution_count": 108,
   "id": "f3fb2ba9",
   "metadata": {},
   "outputs": [
    {
     "data": {
      "text/plain": [
       "3.227087119817433"
      ]
     },
     "execution_count": 108,
     "metadata": {},
     "output_type": "execute_result"
    }
   ],
   "source": [
    "-1.1085*np.std(merge2['LB_POTASSIUM']) + np.mean(merge2['LB_POTASSIUM'])"
   ]
  },
  {
   "cell_type": "code",
   "execution_count": 105,
   "id": "181b7ba8",
   "metadata": {},
   "outputs": [
    {
     "data": {
      "text/plain": [
       "190.99782395550795"
      ]
     },
     "execution_count": 105,
     "metadata": {},
     "output_type": "execute_result"
    }
   ],
   "source": [
    "-0.5058* np.std(merge2['LB_PC']) + np.mean(merge2['LB_PC'])"
   ]
  },
  {
   "cell_type": "markdown",
   "id": "cc34ae1c",
   "metadata": {},
   "source": [
    "# Subgroup HTE"
   ]
  },
  {
   "cell_type": "code",
   "execution_count": 37,
   "id": "f4629ba3",
   "metadata": {},
   "outputs": [],
   "source": [
    "trial_all = df[df['source']=='atach2'].copy()\n",
    "trial_all = pd.get_dummies(trial_all)\n",
    "trial_all = test_transform_var(trial_all, merge2)"
   ]
  },
  {
   "cell_type": "code",
   "execution_count": 38,
   "id": "be3967c4",
   "metadata": {},
   "outputs": [],
   "source": [
    "trial_X = np.array(trial_all[pre_treatment_var])"
   ]
  },
  {
   "cell_type": "code",
   "execution_count": 39,
   "id": "f68ce936",
   "metadata": {},
   "outputs": [],
   "source": [
    "pred_trial = final_model2.predict(trial_X)"
   ]
  },
  {
   "cell_type": "code",
   "execution_count": 40,
   "id": "a33f7341",
   "metadata": {},
   "outputs": [],
   "source": [
    "trial_all['hte'] = pred_trial"
   ]
  },
  {
   "cell_type": "code",
   "execution_count": 62,
   "id": "1b3f2148",
   "metadata": {},
   "outputs": [
    {
     "data": {
      "text/plain": [
       "count    1000.000000\n",
       "mean        0.005183\n",
       "std         0.035147\n",
       "min        -0.138227\n",
       "25%        -0.010171\n",
       "50%         0.006846\n",
       "75%         0.028042\n",
       "max         0.090081\n",
       "Name: hte, dtype: float64"
      ]
     },
     "execution_count": 62,
     "metadata": {},
     "output_type": "execute_result"
    }
   ],
   "source": [
    "trial_all['hte'].describe()"
   ]
  },
  {
   "cell_type": "code",
   "execution_count": 123,
   "id": "8b2ddd81",
   "metadata": {},
   "outputs": [
    {
     "data": {
      "text/html": [
       "<div>\n",
       "<style scoped>\n",
       "    .dataframe tbody tr th:only-of-type {\n",
       "        vertical-align: middle;\n",
       "    }\n",
       "\n",
       "    .dataframe tbody tr th {\n",
       "        vertical-align: top;\n",
       "    }\n",
       "\n",
       "    .dataframe thead th {\n",
       "        text-align: right;\n",
       "    }\n",
       "</style>\n",
       "<table border=\"1\" class=\"dataframe\">\n",
       "  <thead>\n",
       "    <tr style=\"text-align: right;\">\n",
       "      <th></th>\n",
       "      <th>TREATMENT</th>\n",
       "      <th>DEMO_AGE</th>\n",
       "      <th>OUTCOME_mRS90</th>\n",
       "      <th>CT1_ICHVOL</th>\n",
       "      <th>CT1_IVHVOL</th>\n",
       "      <th>GCS_TTL</th>\n",
       "      <th>NIHSS_TTL</th>\n",
       "      <th>BP_S0</th>\n",
       "      <th>BP_D0</th>\n",
       "      <th>HIS_HYPERTENSION</th>\n",
       "      <th>...</th>\n",
       "      <th>chloride</th>\n",
       "      <th>cd</th>\n",
       "      <th>bun</th>\n",
       "      <th>hemoglobin</th>\n",
       "      <th>hematocrit</th>\n",
       "      <th>wbc</th>\n",
       "      <th>creatinie</th>\n",
       "      <th>aptt</th>\n",
       "      <th>inr</th>\n",
       "      <th>hte</th>\n",
       "    </tr>\n",
       "  </thead>\n",
       "  <tbody>\n",
       "    <tr>\n",
       "      <th>8</th>\n",
       "      <td>1</td>\n",
       "      <td>55.0</td>\n",
       "      <td>1.0</td>\n",
       "      <td>8.30103</td>\n",
       "      <td>1.43508</td>\n",
       "      <td>15.0</td>\n",
       "      <td>9.0</td>\n",
       "      <td>147.0</td>\n",
       "      <td>65.0</td>\n",
       "      <td>1.0</td>\n",
       "      <td>...</td>\n",
       "      <td>0.009436</td>\n",
       "      <td>1.367477</td>\n",
       "      <td>-0.874932</td>\n",
       "      <td>0.146797</td>\n",
       "      <td>0.038271</td>\n",
       "      <td>-0.052848</td>\n",
       "      <td>-0.552872</td>\n",
       "      <td>-0.725982</td>\n",
       "      <td>-0.441902</td>\n",
       "      <td>-0.080512</td>\n",
       "    </tr>\n",
       "    <tr>\n",
       "      <th>15</th>\n",
       "      <td>0</td>\n",
       "      <td>56.0</td>\n",
       "      <td>4.0</td>\n",
       "      <td>22.03439</td>\n",
       "      <td>0.00000</td>\n",
       "      <td>10.0</td>\n",
       "      <td>27.0</td>\n",
       "      <td>165.0</td>\n",
       "      <td>66.0</td>\n",
       "      <td>0.0</td>\n",
       "      <td>...</td>\n",
       "      <td>-0.249268</td>\n",
       "      <td>1.100031</td>\n",
       "      <td>-0.607117</td>\n",
       "      <td>-0.297198</td>\n",
       "      <td>-0.758645</td>\n",
       "      <td>0.686732</td>\n",
       "      <td>-0.212329</td>\n",
       "      <td>-1.029952</td>\n",
       "      <td>0.047850</td>\n",
       "      <td>-0.042896</td>\n",
       "    </tr>\n",
       "    <tr>\n",
       "      <th>27</th>\n",
       "      <td>0</td>\n",
       "      <td>85.0</td>\n",
       "      <td>2.0</td>\n",
       "      <td>2.91347</td>\n",
       "      <td>0.00000</td>\n",
       "      <td>15.0</td>\n",
       "      <td>3.0</td>\n",
       "      <td>156.0</td>\n",
       "      <td>59.0</td>\n",
       "      <td>1.0</td>\n",
       "      <td>...</td>\n",
       "      <td>3.631294</td>\n",
       "      <td>-1.039537</td>\n",
       "      <td>0.113923</td>\n",
       "      <td>-1.283855</td>\n",
       "      <td>-1.613873</td>\n",
       "      <td>0.211288</td>\n",
       "      <td>-0.425168</td>\n",
       "      <td>-1.941861</td>\n",
       "      <td>0.047850</td>\n",
       "      <td>-0.071721</td>\n",
       "    </tr>\n",
       "    <tr>\n",
       "      <th>39</th>\n",
       "      <td>0</td>\n",
       "      <td>66.0</td>\n",
       "      <td>3.0</td>\n",
       "      <td>3.20415</td>\n",
       "      <td>0.00000</td>\n",
       "      <td>15.0</td>\n",
       "      <td>3.0</td>\n",
       "      <td>150.0</td>\n",
       "      <td>61.0</td>\n",
       "      <td>1.0</td>\n",
       "      <td>...</td>\n",
       "      <td>1.044252</td>\n",
       "      <td>-0.237199</td>\n",
       "      <td>0.319935</td>\n",
       "      <td>-0.543862</td>\n",
       "      <td>-0.855830</td>\n",
       "      <td>0.499436</td>\n",
       "      <td>-0.354222</td>\n",
       "      <td>-0.166678</td>\n",
       "      <td>0.047850</td>\n",
       "      <td>-0.089475</td>\n",
       "    </tr>\n",
       "    <tr>\n",
       "      <th>53</th>\n",
       "      <td>0</td>\n",
       "      <td>62.0</td>\n",
       "      <td>2.0</td>\n",
       "      <td>1.50411</td>\n",
       "      <td>0.00000</td>\n",
       "      <td>15.0</td>\n",
       "      <td>5.0</td>\n",
       "      <td>142.0</td>\n",
       "      <td>69.0</td>\n",
       "      <td>1.0</td>\n",
       "      <td>...</td>\n",
       "      <td>0.785548</td>\n",
       "      <td>0.297693</td>\n",
       "      <td>0.216929</td>\n",
       "      <td>0.492127</td>\n",
       "      <td>0.446448</td>\n",
       "      <td>-0.533095</td>\n",
       "      <td>0.000509</td>\n",
       "      <td>-0.057249</td>\n",
       "      <td>-0.441902</td>\n",
       "      <td>-0.013452</td>\n",
       "    </tr>\n",
       "  </tbody>\n",
       "</table>\n",
       "<p>5 rows × 75 columns</p>\n",
       "</div>"
      ],
      "text/plain": [
       "    TREATMENT  DEMO_AGE  OUTCOME_mRS90  CT1_ICHVOL  CT1_IVHVOL  GCS_TTL  \\\n",
       "8           1      55.0            1.0     8.30103     1.43508     15.0   \n",
       "15          0      56.0            4.0    22.03439     0.00000     10.0   \n",
       "27          0      85.0            2.0     2.91347     0.00000     15.0   \n",
       "39          0      66.0            3.0     3.20415     0.00000     15.0   \n",
       "53          0      62.0            2.0     1.50411     0.00000     15.0   \n",
       "\n",
       "    NIHSS_TTL  BP_S0  BP_D0  HIS_HYPERTENSION  ...  chloride        cd  \\\n",
       "8         9.0  147.0   65.0               1.0  ...  0.009436  1.367477   \n",
       "15       27.0  165.0   66.0               0.0  ... -0.249268  1.100031   \n",
       "27        3.0  156.0   59.0               1.0  ...  3.631294 -1.039537   \n",
       "39        3.0  150.0   61.0               1.0  ...  1.044252 -0.237199   \n",
       "53        5.0  142.0   69.0               1.0  ...  0.785548  0.297693   \n",
       "\n",
       "         bun  hemoglobin  hematocrit       wbc  creatinie      aptt       inr  \\\n",
       "8  -0.874932    0.146797    0.038271 -0.052848  -0.552872 -0.725982 -0.441902   \n",
       "15 -0.607117   -0.297198   -0.758645  0.686732  -0.212329 -1.029952  0.047850   \n",
       "27  0.113923   -1.283855   -1.613873  0.211288  -0.425168 -1.941861  0.047850   \n",
       "39  0.319935   -0.543862   -0.855830  0.499436  -0.354222 -0.166678  0.047850   \n",
       "53  0.216929    0.492127    0.446448 -0.533095   0.000509 -0.057249 -0.441902   \n",
       "\n",
       "         hte  \n",
       "8  -0.080512  \n",
       "15 -0.042896  \n",
       "27 -0.071721  \n",
       "39 -0.089475  \n",
       "53 -0.013452  \n",
       "\n",
       "[5 rows x 75 columns]"
      ]
     },
     "execution_count": 123,
     "metadata": {},
     "output_type": "execute_result"
    }
   ],
   "source": [
    "a = trial_all[trial_all['BP_D0']<70].copy()\n",
    "a.head()"
   ]
  },
  {
   "cell_type": "code",
   "execution_count": 124,
   "id": "5e7b46c2",
   "metadata": {},
   "outputs": [
    {
     "data": {
      "text/plain": [
       "48"
      ]
     },
     "execution_count": 124,
     "metadata": {},
     "output_type": "execute_result"
    }
   ],
   "source": [
    "sum(a['TREATMENT'])"
   ]
  },
  {
   "cell_type": "code",
   "execution_count": 81,
   "id": "5f506b06",
   "metadata": {},
   "outputs": [
    {
     "data": {
      "text/plain": [
       "count    200.000000\n",
       "mean       0.004313\n",
       "std        0.034967\n",
       "min       -0.122532\n",
       "25%       -0.009818\n",
       "50%        0.005927\n",
       "75%        0.025785\n",
       "max        0.086781\n",
       "Name: hte, dtype: float64"
      ]
     },
     "execution_count": 81,
     "metadata": {},
     "output_type": "execute_result"
    }
   ],
   "source": [
    "trial_test = trial_all[trial_all['group_test'] == 1]\n",
    "trial_test['hte'].describe()"
   ]
  },
  {
   "cell_type": "code",
   "execution_count": 82,
   "id": "ae5c3d38",
   "metadata": {},
   "outputs": [
    {
     "data": {
      "text/plain": [
       "119"
      ]
     },
     "execution_count": 82,
     "metadata": {},
     "output_type": "execute_result"
    }
   ],
   "source": [
    "len(trial_test[trial_test['hte']>0])"
   ]
  },
  {
   "cell_type": "code",
   "execution_count": 87,
   "id": "3ec82bf0",
   "metadata": {},
   "outputs": [
    {
     "data": {
      "text/plain": [
       "count    168.000000\n",
       "mean       0.013835\n",
       "std        0.023784\n",
       "min       -0.038860\n",
       "25%       -0.003901\n",
       "50%        0.010749\n",
       "75%        0.029603\n",
       "max        0.086781\n",
       "Name: hte, dtype: float64"
      ]
     },
     "execution_count": 87,
     "metadata": {},
     "output_type": "execute_result"
    }
   ],
   "source": [
    "temp =trial_test[(trial_test['BP_D0']>=70 ) & (trial_test['BP_S0'] < 215)] \n",
    "temp['hte'].describe()"
   ]
  },
  {
   "cell_type": "code",
   "execution_count": 89,
   "id": "e9bdc83c",
   "metadata": {},
   "outputs": [
    {
     "data": {
      "text/plain": [
       "count    175.000000\n",
       "mean       0.013712\n",
       "std        0.023424\n",
       "min       -0.038860\n",
       "25%       -0.003914\n",
       "50%        0.010257\n",
       "75%        0.029365\n",
       "max        0.086781\n",
       "Name: hte, dtype: float64"
      ]
     },
     "execution_count": 89,
     "metadata": {},
     "output_type": "execute_result"
    }
   ],
   "source": [
    "temp1 = trial_test[(trial_test['ICHLOC_Other']==0)&(trial_test['BP_D0']>=70)] \n",
    "temp1['hte'].describe()"
   ]
  },
  {
   "cell_type": "code",
   "execution_count": 90,
   "id": "2c840223",
   "metadata": {},
   "outputs": [
    {
     "data": {
      "text/plain": [
       "count    169.000000\n",
       "mean       0.014480\n",
       "std        0.023142\n",
       "min       -0.038860\n",
       "25%       -0.003526\n",
       "50%        0.011876\n",
       "75%        0.029984\n",
       "max        0.086781\n",
       "Name: hte, dtype: float64"
      ]
     },
     "execution_count": 90,
     "metadata": {},
     "output_type": "execute_result"
    }
   ],
   "source": [
    "temp2 = trial_test[(trial_test['NIHSS_TTL']>=3.0) & (trial_test['BP_D0'] >= 70)]\n",
    "temp2['hte'].describe()"
   ]
  },
  {
   "cell_type": "code",
   "execution_count": 91,
   "id": "1f656ffa",
   "metadata": {},
   "outputs": [
    {
     "data": {
      "text/plain": [
       "count    20.000000\n",
       "mean      0.029750\n",
       "std       0.025466\n",
       "min      -0.025913\n",
       "25%       0.016167\n",
       "50%       0.027375\n",
       "75%       0.040256\n",
       "max       0.086781\n",
       "Name: hte, dtype: float64"
      ]
     },
     "execution_count": 91,
     "metadata": {},
     "output_type": "execute_result"
    }
   ],
   "source": [
    "temp3 = trial_test[(trial_test['LB_HEMOGLOBIN']< 12.5)&(trial_test['BP_D0']>=70)]\n",
    "temp3['hte'].describe()"
   ]
  },
  {
   "cell_type": "code",
   "execution_count": 92,
   "id": "90539d85",
   "metadata": {},
   "outputs": [
    {
     "data": {
      "text/plain": [
       "count    887.000000\n",
       "mean       0.013387\n",
       "std        0.025547\n",
       "min       -0.063056\n",
       "25%       -0.004596\n",
       "50%        0.010468\n",
       "75%        0.030705\n",
       "max        0.090081\n",
       "Name: hte, dtype: float64"
      ]
     },
     "execution_count": 92,
     "metadata": {},
     "output_type": "execute_result"
    }
   ],
   "source": [
    "temp4 = trial_all[(trial_all['BP_D0']>=70.0)&(trial_all['BP_D0']<147.0)]\n",
    "temp4['hte'].describe()"
   ]
  },
  {
   "cell_type": "code",
   "execution_count": 98,
   "id": "75ea8bcd",
   "metadata": {},
   "outputs": [
    {
     "data": {
      "text/plain": [
       "count    82.000000\n",
       "mean     -0.003907\n",
       "std       0.036495\n",
       "min      -0.122532\n",
       "25%      -0.013514\n",
       "50%      -0.001194\n",
       "75%       0.018135\n",
       "max       0.062289\n",
       "Name: hte, dtype: float64"
      ]
     },
     "execution_count": 98,
     "metadata": {},
     "output_type": "execute_result"
    }
   ],
   "source": [
    "temp5 = trial_test[(trial_test['LB_HEMOGLOBIN']>=12.5)&(trial_test['ICHLOC_Basal Ganglia']==0)]\n",
    "temp5['hte'].describe()"
   ]
  },
  {
   "cell_type": "code",
   "execution_count": 100,
   "id": "2d8da70f",
   "metadata": {},
   "outputs": [
    {
     "data": {
      "text/plain": [
       "count    23.000000\n",
       "mean     -0.064351\n",
       "std       0.031474\n",
       "min      -0.122532\n",
       "25%      -0.078790\n",
       "50%      -0.062239\n",
       "75%      -0.045648\n",
       "max      -0.000884\n",
       "Name: hte, dtype: float64"
      ]
     },
     "execution_count": 100,
     "metadata": {},
     "output_type": "execute_result"
    }
   ],
   "source": [
    "temp6 = trial_test[trial_test['BP_D0']<70]\n",
    "temp6['hte'].describe()"
   ]
  },
  {
   "cell_type": "code",
   "execution_count": 101,
   "id": "58724bca",
   "metadata": {},
   "outputs": [
    {
     "data": {
      "text/plain": [
       "count    11.000000\n",
       "mean     -0.082170\n",
       "std       0.030346\n",
       "min      -0.122532\n",
       "25%      -0.108223\n",
       "50%      -0.084703\n",
       "75%      -0.054560\n",
       "max      -0.035511\n",
       "Name: hte, dtype: float64"
      ]
     },
     "execution_count": 101,
     "metadata": {},
     "output_type": "execute_result"
    }
   ],
   "source": [
    "temp7 = trial_test[(trial_test['BP_D0']<64)]\n",
    "temp7['hte'].describe()"
   ]
  },
  {
   "cell_type": "code",
   "execution_count": 102,
   "id": "e563b827",
   "metadata": {},
   "outputs": [
    {
     "data": {
      "text/plain": [
       "count    31.000000\n",
       "mean     -0.026130\n",
       "std       0.048017\n",
       "min      -0.110404\n",
       "25%      -0.067196\n",
       "50%      -0.006633\n",
       "75%       0.005069\n",
       "max       0.086781\n",
       "Name: hte, dtype: float64"
      ]
     },
     "execution_count": 102,
     "metadata": {},
     "output_type": "execute_result"
    }
   ],
   "source": [
    "temp8 = trial_test[(trial_test['MAP']<104) & (trial_test['LB_CD'] >= 23.2)]\n",
    "temp8['hte'].describe()"
   ]
  },
  {
   "cell_type": "code",
   "execution_count": 109,
   "id": "d95839b6",
   "metadata": {},
   "outputs": [
    {
     "data": {
      "text/plain": [
       "count    125.000000\n",
       "mean      -0.005531\n",
       "std        0.030819\n",
       "min       -0.122532\n",
       "25%       -0.010848\n",
       "50%        0.000079\n",
       "75%        0.013266\n",
       "max        0.047196\n",
       "Name: hte, dtype: float64"
      ]
     },
     "execution_count": 109,
     "metadata": {},
     "output_type": "execute_result"
    }
   ],
   "source": [
    "temp9 = trial_test[(trial_test['LB_PC'] >= 191.0)&(trial_test['LB_POTASSIUM']>=3.2)]\n",
    "temp9['hte'].describe()"
   ]
  },
  {
   "cell_type": "code",
   "execution_count": 167,
   "id": "edbf4b1a",
   "metadata": {},
   "outputs": [
    {
     "data": {
      "text/plain": [
       "count    463.000000\n",
       "mean       0.031479\n",
       "std        0.033821\n",
       "min       -0.086181\n",
       "25%        0.013452\n",
       "50%        0.038207\n",
       "75%        0.056649\n",
       "max        0.111668\n",
       "Name: hte, dtype: float64"
      ]
     },
     "execution_count": 167,
     "metadata": {},
     "output_type": "execute_result"
    }
   ],
   "source": [
    "temp9 = trial[(trial['glucose']>=-0.5627)&(trial['pp']<0.2967)]\n",
    "temp9['hte'].describe()"
   ]
  },
  {
   "cell_type": "markdown",
   "id": "1a1858ce",
   "metadata": {},
   "source": [
    "# Plot"
   ]
  },
  {
   "cell_type": "code",
   "execution_count": 41,
   "id": "40495ba4",
   "metadata": {},
   "outputs": [],
   "source": [
    "import matplotlib.pyplot as plt\n",
    "import seaborn as sns\n",
    "from localreg import *"
   ]
  },
  {
   "cell_type": "code",
   "execution_count": 42,
   "id": "bc904fbb",
   "metadata": {},
   "outputs": [],
   "source": [
    "x = np.array(trial_all['BP_D0'])\n",
    "y = np.array(trial_all['hte'])\n",
    "order = np.argsort(x)\n",
    "xs = x[order]\n",
    "ys = y[order]\n",
    "y_hat = localreg(xs, ys, degree = 10, kernel=rbf.biweight, radius = 3)\n",
    "polymodel = np.poly1d(np.polyfit(xs, ys, 3))"
   ]
  },
  {
   "cell_type": "code",
   "execution_count": 43,
   "id": "fc723eaa",
   "metadata": {},
   "outputs": [],
   "source": [
    "y_hat2 = polymodel(xs)"
   ]
  },
  {
   "cell_type": "code",
   "execution_count": 44,
   "id": "9d994b9d",
   "metadata": {},
   "outputs": [
    {
     "data": {
      "image/png": "[encoded data removed]",
      "text/plain": [
       "<Figure size 432x288 with 1 Axes>"
      ]
     },
     "metadata": {
      "needs_background": "light"
     },
     "output_type": "display_data"
    }
   ],
   "source": [
    "fig, ax = plt.subplots()\n",
    "# Plot the data\n",
    "ax.plot(xs, ys, '.', markersize=3.0, color='black')\n",
    "ax.plot(xs, y_hat2, label='Local quadratic regression', color='gray')\n",
    "ax.set_xlabel(\"Diastolic Blood Pressure (mm Hg)\")\n",
    "ax.set_ylabel(\"Treatment effects\")\n",
    "\n",
    "# Set the background color of the plot area (inside the axes) to white\n",
    "ax.set_facecolor('white')\n",
    "\n",
    "# Remove the spines (the borders) of the plot\n",
    "for spine in ax.spines.values():\n",
    "    spine.set_visible(False)\n",
    "\n",
    "# Display the plot\n",
    "plt.show()"
   ]
  },
  {
   "cell_type": "code",
   "execution_count": 52,
   "id": "e01a7b2d",
   "metadata": {},
   "outputs": [
    {
     "data": {
      "image/png": "[encoded data removed]",
      "text/plain": [
       "<Figure size 432x288 with 1 Axes>"
      ]
     },
     "metadata": {
      "needs_background": "light"
     },
     "output_type": "display_data"
    }
   ],
   "source": [
    "x = np.array(trial_all['BP_S0'])\n",
    "y = np.array(trial_all['hte'])\n",
    "order = np.argsort(x)\n",
    "xs = x[order]\n",
    "ys = y[order]\n",
    "polymodel = np.poly1d(np.polyfit(xs, ys, 3))\n",
    "y_hat = polymodel(xs)\n",
    "fig, ax = plt.subplots()\n",
    "# Plot the data\n",
    "ax.plot(xs, ys, '.', markersize=3.0, color='black')\n",
    "ax.plot(xs, y_hat, label='Local quadratic regression', color='gray')\n",
    "ax.set_xlabel(\"Systolic Blood Pressure (mm Hg)\")\n",
    "ax.set_ylabel(\"Treatment effects\")\n",
    "\n",
    "# Set the background color of the plot area (inside the axes) to white\n",
    "ax.set_facecolor('white')\n",
    "\n",
    "# Remove the spines (the borders) of the plot\n",
    "for spine in ax.spines.values():\n",
    "    spine.set_visible(False)\n",
    "\n",
    "# Display the plot\n",
    "plt.show()"
   ]
  },
  {
   "cell_type": "code",
   "execution_count": 55,
   "id": "ac73f1e5",
   "metadata": {},
   "outputs": [
    {
     "data": {
      "image/png": "[encoded data removed]",
      "text/plain": [
       "<Figure size 432x288 with 1 Axes>"
      ]
     },
     "metadata": {
      "needs_background": "light"
     },
     "output_type": "display_data"
    }
   ],
   "source": [
    "x = np.array(trial_all['MAP'])\n",
    "y = np.array(trial_all['hte'])\n",
    "order = np.argsort(x)\n",
    "xs = x[order]\n",
    "ys = y[order]\n",
    "polymodel = np.poly1d(np.polyfit(xs, ys, 2))\n",
    "y_hat = polymodel(xs)\n",
    "fig, ax = plt.subplots()\n",
    "# Plot the data\n",
    "ax.plot(xs, ys, '.', markersize=3.0, color='black')\n",
    "ax.plot(xs, y_hat, label='Local quadratic regression', color='gray')\n",
    "ax.set_xlabel(\"MAP=SBP/3+DBP*2/3 (mm Hg)\")\n",
    "ax.set_ylabel(\"Treatment effects\")\n",
    "\n",
    "# Set the background color of the plot area (inside the axes) to white\n",
    "ax.set_facecolor('white')\n",
    "\n",
    "# Remove the spines (the borders) of the plot\n",
    "for spine in ax.spines.values():\n",
    "    spine.set_visible(False)\n",
    "\n",
    "# Display the plot\n",
    "plt.show()"
   ]
  },
  {
   "cell_type": "code",
   "execution_count": 56,
   "id": "5a89043c",
   "metadata": {},
   "outputs": [
    {
     "data": {
      "image/png": "[encoded data removed]",
      "text/plain": [
       "<Figure size 432x288 with 1 Axes>"
      ]
     },
     "metadata": {
      "needs_background": "light"
     },
     "output_type": "display_data"
    }
   ],
   "source": [
    "x = np.array(trial_all['PP'])\n",
    "y = np.array(trial_all['hte'])\n",
    "order = np.argsort(x)\n",
    "xs = x[order]\n",
    "ys = y[order]\n",
    "polymodel = np.poly1d(np.polyfit(xs, ys, 2))\n",
    "y_hat = polymodel(xs)\n",
    "fig, ax = plt.subplots()\n",
    "# Plot the data\n",
    "ax.plot(xs, ys, '.', markersize=3.0, color='black')\n",
    "ax.plot(xs, y_hat, label='Local quadratic regression', color='gray')\n",
    "ax.set_xlabel(\"PP=SBP-DBP (mm Hg)\")\n",
    "ax.set_ylabel(\"Treatment effects\")\n",
    "\n",
    "# Set the background color of the plot area (inside the axes) to white\n",
    "ax.set_facecolor('white')\n",
    "\n",
    "# Remove the spines (the borders) of the plot\n",
    "for spine in ax.spines.values():\n",
    "    spine.set_visible(False)\n",
    "\n",
    "# Display the plot\n",
    "plt.show()"
   ]
  },
  {
   "cell_type": "code",
   "execution_count": null,
   "id": "2336f09b",
   "metadata": {},
   "outputs": [],
   "source": []
  },
  {
   "cell_type": "code",
   "execution_count": null,
   "id": "4449a03e",
   "metadata": {},
   "outputs": [],
   "source": []
  }
 ],
 "metadata": {
  "kernelspec": {
   "display_name": "Python 3.7",
   "language": "python",
   "name": "py37"
  },
  "language_info": {
   "codemirror_mode": {
    "name": "ipython",
    "version": 3
   },
   "file_extension": ".py",
   "mimetype": "text/x-python",
   "name": "python",
   "nbconvert_exporter": "python",
   "pygments_lexer": "ipython3",
   "version": "3.7.12"
  }
 },
 "nbformat": 4,
 "nbformat_minor": 5
}
