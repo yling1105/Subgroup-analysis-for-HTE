{
 "cells": [
  {
   "cell_type": "code",
   "execution_count": 1,
   "metadata": {},
   "outputs": [],
   "source": [
    "from rulefit_uplift_forest import CausalRuleEnsembling\n",
    "from sklearn.model_selection import KFold\n",
    "import torch\n",
    "import sdv\n",
    "from sdv.tabular import CTGAN\n",
    "from sdv.sampling import Condition\n",
    "import pandas as pd\n",
    "import numpy as np\n",
    "import random\n",
    "from sklearn.metrics import roc_auc_score as auc\n",
    "from sklearn.linear_model import LogisticRegression\n",
    "import matplotlib.pyplot as plt\n",
    "import miceforest as mf\n",
    "import random"
   ]
  },
  {
   "cell_type": "code",
   "execution_count": 2,
   "metadata": {},
   "outputs": [],
   "source": [
    "random.seed(1)\n",
    "np.random.seed(1)"
   ]
  },
  {
   "cell_type": "code",
   "execution_count": 3,
   "metadata": {},
   "outputs": [],
   "source": [
    "df = pd.read_csv('temp_data/imputed_all.csv')"
   ]
  },
  {
   "cell_type": "code",
   "execution_count": 4,
   "metadata": {},
   "outputs": [
    {
     "data": {
      "text/plain": [
       "Index(['Unnamed: 0', 'TREATMENT', 'DEMO_AGE', 'OUTCOME_mRS90', 'CT1_ICHVOL',\n",
       "       'CT1_IVHVOL', 'GCS_TTL', 'NIHSS_TTL', 'BP_S0', 'BP_D0',\n",
       "       'HIS_HYPERTENSION', 'HIS_HYPERLIPIDEMIA', 'HIS_DM1', 'HIS_DM2',\n",
       "       'HIS_HF', 'HIS_AF', 'HIS_PTCA', 'HIS_PV', 'HIS_MYOCARDIAL',\n",
       "       'HIS_ANTIDIABETIC', 'HIS_ANTIHYPERTENSIVES', 'LB_WBC', 'LB_HEMOGLOBIN',\n",
       "       'LB_HEMATOCRIT', 'LB_PC', 'LB_APTT', 'LB_INR', 'LB_GLUCOSE',\n",
       "       'LB_SODIUM', 'LB_POTASSIUM', 'LB_CHLORIDE', 'LB_CD', 'LB_BUN',\n",
       "       'LB_CREATINIE', 'RACE', 'GENDER', 'ETHNICITY', 'CT1_ICHSIDE', 'ICHLOC',\n",
       "       'source', 'group', 'index'],\n",
       "      dtype='object')"
      ]
     },
     "execution_count": 4,
     "metadata": {},
     "output_type": "execute_result"
    }
   ],
   "source": [
    "df.columns"
   ]
  },
  {
   "cell_type": "markdown",
   "metadata": {},
   "source": [
    "# Train our model on the trial only\n",
    "1000 samples from RCT\n",
    "\n",
    "Train-test split: 8:2\n",
    "\n",
    "Test data will be only involved in the true trial data"
   ]
  },
  {
   "cell_type": "code",
   "execution_count": 5,
   "metadata": {},
   "outputs": [],
   "source": [
    "def transform_var(df):\n",
    "    df['age'] = (df['DEMO_AGE'] - np.mean(df['DEMO_AGE'])) / np.std(df['DEMO_AGE'])\n",
    "    df['ich_vol'] = np.log(df['CT1_ICHVOL'] + 1)\n",
    "    df['ivh_vol'] = np.log(df['CT1_IVHVOL'] + 1)\n",
    "    df['gcs'] = (df['GCS_TTL'] - np.mean(df['GCS_TTL'])) / np.std(df['GCS_TTL'])\n",
    "    df['nihss'] = np.log(df['NIHSS_TTL'] + 1)\n",
    "    df['sbp'] = (df['BP_S0'] - np.mean(df['BP_S0'])) / np.std(df['BP_S0'])\n",
    "    df['dbp'] = (df['BP_D0'] - np.mean(df['BP_D0'])) / np.std(df['BP_D0'])\n",
    "    df['PP'] = df['BP_S0'] - df['BP_D0']\n",
    "    df['MAP'] = df['BP_S0']/3 + df['BP_D0']*2/3\n",
    "    df['pp'] = (df['PP'] -np.mean(df['PP'])) / np.std(df['PP'])\n",
    "    df['map'] = (df['MAP'] - np.mean(df['MAP']))/np.std(df['MAP'])\n",
    "    \n",
    "    df['pc'] = (df['LB_PC'] - np.mean(df['LB_PC'])) / np.std(df['LB_PC'])\n",
    "    df['glucose'] = (df['LB_GLUCOSE'] - np.mean(df['LB_GLUCOSE'])) / np.std(df['LB_GLUCOSE'])\n",
    "    df['sodium'] = (df['LB_SODIUM'] - np.mean(df['LB_SODIUM'])) / np.std(df['LB_SODIUM'])\n",
    "    df['potassium'] = (df['LB_POTASSIUM'] - np.mean(df['LB_POTASSIUM'])) / np.std(df['LB_POTASSIUM'])\n",
    "    df['chloride'] = (df['LB_CHLORIDE'] - np.mean(df['LB_CHLORIDE'])) / np.std(df['LB_CHLORIDE'])\n",
    "    df['cd'] = (df['LB_CD'] - np.mean(df['LB_CD'])) / np.std(df['LB_CD'])\n",
    "    df['bun'] = (df['LB_BUN'] - np.mean(df['LB_BUN'])) / np.std(df['LB_BUN'])\n",
    "    df['hemoglobin'] = (df['LB_HEMOGLOBIN'] - np.mean(df['LB_HEMOGLOBIN'])) / np.std(df['LB_HEMOGLOBIN'])\n",
    "    df['hematocrit'] = (df['LB_HEMATOCRIT'] - np.mean(df['LB_HEMATOCRIT'])) / np.std(df['LB_HEMATOCRIT'])\n",
    "    df['wbc'] = (df['LB_WBC'] - np.mean(df['LB_WBC'])) / np.std(df['LB_WBC'])\n",
    "    df['creatinie'] = (df['LB_CREATINIE'] - np.mean(df['LB_CREATINIE'])) / np.std(df['LB_CREATINIE'])\n",
    "    df['aptt'] = (df['LB_APTT'] - np.mean(df['LB_APTT'])) / np.std(df['LB_APTT'])\n",
    "    df['inr'] = (df['LB_INR'] - np.mean(df['LB_INR'])) / np.std(df['LB_INR'])\n",
    "    \n",
    "    return df"
   ]
  },
  {
   "cell_type": "code",
   "execution_count": 6,
   "metadata": {},
   "outputs": [],
   "source": [
    "def test_transform_var(df, train):\n",
    "    # Using the training data to \n",
    "    df['age'] = (df['DEMO_AGE'] - np.mean(train['DEMO_AGE'])) / np.std(train['DEMO_AGE'])\n",
    "    df['ich_vol'] = np.log(df['CT1_ICHVOL'] + 1)\n",
    "    df['ivh_vol'] = np.log(df['CT1_IVHVOL'] + 1)\n",
    "    df['gcs'] = (df['GCS_TTL'] - np.mean(train['GCS_TTL'])) / np.std(train['GCS_TTL'])\n",
    "    df['nihss'] = np.log(df['NIHSS_TTL'] + 1)\n",
    "    df['sbp'] = (df['BP_S0'] - np.mean(train['BP_S0'])) / np.std(train['BP_S0'])\n",
    "    df['dbp'] = (df['BP_D0'] - np.mean(train['BP_D0'])) / np.std(train['BP_D0'])\n",
    "    \n",
    "    df['PP'] = df['BP_S0'] - df['BP_D0']\n",
    "    df['MAP'] = df['BP_S0']/3 + df['BP_D0']*2/3\n",
    "    df['pp'] = (df['PP'] -np.mean(train['PP'])) / np.std(train['PP'])\n",
    "    df['map'] = (df['MAP'] - np.mean(train['MAP']))/np.std(train['MAP'])\n",
    "    \n",
    "    df['pc'] = (df['LB_PC'] - np.mean(train['LB_PC'])) / np.std(train['LB_PC'])\n",
    "    df['glucose'] = (df['LB_GLUCOSE'] - np.mean(train['LB_GLUCOSE'])) / np.std(train['LB_GLUCOSE'])\n",
    "    df['sodium'] = (df['LB_SODIUM'] - np.mean(train['LB_SODIUM'])) / np.std(train['LB_SODIUM'])\n",
    "    df['potassium'] = (df['LB_POTASSIUM'] - np.mean(train['LB_POTASSIUM'])) / np.std(train['LB_POTASSIUM'])\n",
    "    df['chloride'] = (df['LB_CHLORIDE'] - np.mean(train['LB_CHLORIDE'])) / np.std(train['LB_CHLORIDE'])\n",
    "    df['cd'] = (df['LB_CD'] - np.mean(train['LB_CD'])) / np.std(train['LB_CD'])\n",
    "    df['bun'] = (df['LB_BUN'] - np.mean(train['LB_BUN'])) / np.std(train['LB_BUN'])\n",
    "    df['hemoglobin'] = (df['LB_HEMOGLOBIN'] - np.mean(train['LB_HEMOGLOBIN'])) / np.std(train['LB_HEMOGLOBIN'])\n",
    "    df['hematocrit'] = (df['LB_HEMATOCRIT'] - np.mean(train['LB_HEMATOCRIT'])) / np.std(train['LB_HEMATOCRIT'])\n",
    "    df['wbc'] = (df['LB_WBC'] - np.mean(train['LB_WBC'])) / np.std(train['LB_WBC'])\n",
    "    df['creatinie'] = (df['LB_CREATINIE'] - np.mean(train['LB_CREATINIE'])) / np.std(train['LB_CREATINIE'])\n",
    "    df['aptt'] = (df['LB_APTT'] - np.mean(train['LB_APTT'])) / np.std(train['LB_APTT'])\n",
    "    df['inr'] = (df['LB_INR'] - np.mean(train['LB_INR'])) / np.std(train['LB_INR'])\n",
    "    \n",
    "    return df"
   ]
  },
  {
   "cell_type": "code",
   "execution_count": 7,
   "metadata": {},
   "outputs": [],
   "source": [
    "pre_treatment_var = ['age', 'ich_vol', 'ivh_vol', 'gcs', 'nihss', 'sbp', 'dbp', 'pp', 'map', \n",
    "                     'RACE_Asian', 'RACE_Black', 'RACE_Other', 'RACE_White', 'GENDER_Male', 'GENDER_Female',\n",
    "                     'ETHNICITY_Hispanic','ETHNICITY_Non-Hispanic',\n",
    "                     \n",
    "                     'HIS_HYPERTENSION', 'HIS_HYPERLIPIDEMIA', 'HIS_DM2',\n",
    "                     'HIS_DM1', 'HIS_HF', 'HIS_AF', 'HIS_PTCA', 'HIS_PV','HIS_MYOCARDIAL', \n",
    "                     'HIS_ANTIDIABETIC', 'HIS_ANTIHYPERTENSIVES',\n",
    "                     \n",
    "                     'CT1_ICHSIDE','ICHLOC_Basal Ganglia', 'ICHLOC_Lobar', 'ICHLOC_Thalamus', 'ICHLOC_Other',\n",
    "                     \n",
    "                     'wbc', 'hemoglobin','hematocrit', 'pc', 'aptt', 'inr', 'glucose',\n",
    "                     'sodium', 'potassium', 'chloride', 'cd', 'bun','creatinie']"
   ]
  },
  {
   "cell_type": "code",
   "execution_count": 8,
   "metadata": {},
   "outputs": [
    {
     "data": {
      "text/plain": [
       "46"
      ]
     },
     "execution_count": 8,
     "metadata": {},
     "output_type": "execute_result"
    }
   ],
   "source": [
    "len(pre_treatment_var)"
   ]
  },
  {
   "cell_type": "code",
   "execution_count": 9,
   "metadata": {},
   "outputs": [],
   "source": [
    "group = df['group']\n",
    "source = df['source']\n",
    "df.drop(columns=['source', 'group'])\n",
    "df = pd.get_dummies(df)"
   ]
  },
  {
   "cell_type": "code",
   "execution_count": 10,
   "metadata": {},
   "outputs": [
    {
     "data": {
      "text/plain": [
       "3706"
      ]
     },
     "execution_count": 10,
     "metadata": {},
     "output_type": "execute_result"
    }
   ],
   "source": [
    "len(df)"
   ]
  },
  {
   "cell_type": "code",
   "execution_count": 11,
   "metadata": {},
   "outputs": [],
   "source": [
    "df['group'] = group\n",
    "df['source'] = source\n",
    "df_train = df[(df['group'] == 'train')& (df['source'] == 'atach2')].copy()\n",
    "df_train = transform_var(df_train)\n",
    "df_test = df[(df['group'] == 'test')].copy()\n",
    "df_test = test_transform_var(df_test, df_train)"
   ]
  },
  {
   "cell_type": "code",
   "execution_count": 12,
   "metadata": {},
   "outputs": [
    {
     "name": "stdout",
     "output_type": "stream",
     "text": [
      "AUC score: 0.620841\n"
     ]
    }
   ],
   "source": [
    "X = np.array(df_train[pre_treatment_var])\n",
    "y = np.array(df_train['TREATMENT'])\n",
    "pm_lgr = LogisticRegression(penalty='none', max_iter=3000)\n",
    "pm_lgr.fit(X, y)\n",
    "clip_bounds = (1e-3, 1-1e-3)\n",
    "score_lgr2 = np.clip(pm_lgr.predict_proba(X)[:, 1], *clip_bounds)\n",
    "print('AUC score: {:.6f}'.format(auc(y, score_lgr2)))"
   ]
  },
  {
   "cell_type": "code",
   "execution_count": 13,
   "metadata": {},
   "outputs": [
    {
     "data": {
      "text/plain": [
       "800"
      ]
     },
     "execution_count": 13,
     "metadata": {},
     "output_type": "execute_result"
    }
   ],
   "source": [
    "len(df_train)"
   ]
  },
  {
   "cell_type": "code",
   "execution_count": 14,
   "metadata": {},
   "outputs": [],
   "source": [
    "df_train.reset_index(inplace=True, drop=True)\n",
    "df_train['outcome'] = [0] * len(df_train)\n",
    "for i in range(len(df_train)):\n",
    "    if df_train.loc[i, 'OUTCOME_mRS90'] <= 2:\n",
    "        df_train.loc[i, 'outcome'] = 1"
   ]
  },
  {
   "cell_type": "code",
   "execution_count": 15,
   "metadata": {},
   "outputs": [
    {
     "name": "stdout",
     "output_type": "stream",
     "text": [
      "Round: 1\n",
      "Depth:3,n_reg:3,n_samples:50,n_trt:,qini1:-0.03023572921615637,qini_final:-0.0293871052500526\n",
      "Depth:3,n_reg:3,n_samples:80,n_trt:,qini1:-0.012795302407931284,qini_final:-0.011422652806374002\n",
      "Depth:3,n_reg:3,n_samples:100,n_trt:,qini1:-0.010845397508272072,qini_final:-0.007980481939689317\n",
      "Depth:3,n_reg:5,n_samples:50,n_trt:,qini1:-0.029933666704143665,qini_final:-0.029408127387478354\n",
      "Depth:3,n_reg:5,n_samples:80,n_trt:,qini1:-0.008706506715310862,qini_final:-0.009079083263731896\n",
      "Depth:3,n_reg:5,n_samples:100,n_trt:,qini1:-0.010030598578039814,qini_final:-0.010782257110078346\n",
      "Depth:3,n_reg:10,n_samples:50,n_trt:,qini1:-0.019757827123614735,qini_final:-0.02226795237428512\n",
      "Depth:3,n_reg:10,n_samples:80,n_trt:,qini1:-0.00800883074301827,qini_final:-0.010832541973097473\n",
      "Depth:3,n_reg:10,n_samples:100,n_trt:,qini1:-0.011256051715967141,qini_final:-0.011899503900457013\n",
      "Round: 2\n",
      "Depth:3,n_reg:3,n_samples:50,n_trt:,qini1:-0.0016200778700535454,qini_final:-0.0030217391876908614\n",
      "Depth:3,n_reg:3,n_samples:80,n_trt:,qini1:0.0245023459653718,qini_final:0.02438977707226949\n",
      "Depth:3,n_reg:3,n_samples:100,n_trt:,qini1:-0.005103895058468851,qini_final:-0.004944083409206116\n",
      "Depth:3,n_reg:5,n_samples:50,n_trt:,qini1:-0.0006743354454745194,qini_final:0.0009671661811209024\n",
      "Depth:3,n_reg:5,n_samples:80,n_trt:,qini1:0.02252831712070411,qini_final:0.022884167258749033\n",
      "Depth:3,n_reg:5,n_samples:100,n_trt:,qini1:-0.006766272762955773,qini_final:-0.005977550856732644\n",
      "Depth:3,n_reg:10,n_samples:50,n_trt:,qini1:0.005069940527074836,qini_final:0.0023647101270526795\n",
      "Depth:3,n_reg:10,n_samples:80,n_trt:,qini1:0.014487121501282419,qini_final:0.014408746280074958\n",
      "Depth:3,n_reg:10,n_samples:100,n_trt:,qini1:-0.0069376393442714315,qini_final:-0.0035560772024804477\n",
      "Round: 3\n",
      "Depth:3,n_reg:3,n_samples:50,n_trt:,qini1:-0.019741865617890448,qini_final:-0.019875092025333926\n",
      "Depth:3,n_reg:3,n_samples:80,n_trt:,qini1:-0.032957662002271355,qini_final:-0.03552645359399286\n",
      "Depth:3,n_reg:3,n_samples:100,n_trt:,qini1:-0.010888202290230312,qini_final:-0.013863794702602242\n",
      "Depth:3,n_reg:5,n_samples:50,n_trt:,qini1:-0.023796573982809106,qini_final:-0.025622962003356703\n",
      "Depth:3,n_reg:5,n_samples:80,n_trt:,qini1:-0.02587009520972816,qini_final:-0.02642422487841158\n",
      "Depth:3,n_reg:5,n_samples:100,n_trt:,qini1:-0.011846620995510747,qini_final:-0.010600919367485521\n",
      "Depth:3,n_reg:10,n_samples:50,n_trt:,qini1:-0.02095099095628062,qini_final:-0.026912924836831897\n",
      "Depth:3,n_reg:10,n_samples:80,n_trt:,qini1:-0.019430798321080803,qini_final:-0.018728379309396994\n",
      "Depth:3,n_reg:10,n_samples:100,n_trt:,qini1:-0.013321149141060619,qini_final:-0.013482851471202494\n",
      "Round: 4\n",
      "Depth:3,n_reg:3,n_samples:50,n_trt:,qini1:-0.0528394475282701,qini_final:-0.050919605230167884\n",
      "Depth:3,n_reg:3,n_samples:80,n_trt:,qini1:-0.02547002698806996,qini_final:-0.025623486256059588\n",
      "Depth:3,n_reg:3,n_samples:100,n_trt:,qini1:-0.029349000031542657,qini_final:-0.030238428785633237\n",
      "Depth:3,n_reg:5,n_samples:50,n_trt:,qini1:-0.05763119541127886,qini_final:-0.05694826672031546\n",
      "Depth:3,n_reg:5,n_samples:80,n_trt:,qini1:-0.027633617228917082,qini_final:-0.026907881877417907\n",
      "Depth:3,n_reg:5,n_samples:100,n_trt:,qini1:-0.03495716256523213,qini_final:-0.03438502299672925\n",
      "Depth:3,n_reg:10,n_samples:50,n_trt:,qini1:-0.049937627527899625,qini_final:-0.05077604542676161\n",
      "Depth:3,n_reg:10,n_samples:80,n_trt:,qini1:-0.034325484705302,qini_final:-0.03303685360154539\n",
      "Depth:3,n_reg:10,n_samples:100,n_trt:,qini1:-0.03904585256147798,qini_final:-0.03921296126155593\n"
     ]
    }
   ],
   "source": [
    "train_X = np.array(df_train[pre_treatment_var])\n",
    "train_treatment=(df_train['TREATMENT']!=0).astype(int).values\n",
    "y_train = (df_train['OUTCOME_mRS90']).values\n",
    "y_bin_train = np.array([0] * len(y_train))\n",
    "y_bin_train[np.where(y_train <= 3)] = 1\n",
    "round_idx = 1\n",
    "depth = [3]\n",
    "reg = [3, 5, 10]\n",
    "min_samples = [50, 80, 100]\n",
    "min_trts = [20, 30, 40]\n",
    "\n",
    "res = {1:[[],[]], 2:[[],[]], 3:[[], []], 4: [[], []],5:[[],[]], 6:[[],[]], 7:[[], []], 8:[[], []], 9: [[], []]}\n",
    "res2 = {1:[[],[]], 2:[[],[]], 3:[[], []], 4: [[], []],5:[[],[]], 6:[[],[]], 7: [[], []], 8: [[], []], 9: [[], []]}\n",
    "\n",
    "seed = 100\n",
    "kf = KFold(n_splits=4)\n",
    "for train_index, test_index in kf.split(train_X):\n",
    "    print('Round:', round_idx)\n",
    "    idx = 1\n",
    "    X_train, X_test = train_X[train_index], train_X[test_index]\n",
    "    y_train, y_test = y_bin_train[train_index], y_bin_train[test_index]\n",
    "    treatment_train, treatment_test = train_treatment[train_index], train_treatment[test_index]\n",
    "    if sum(treatment_test) == 0:\n",
    "        continue\n",
    "    \n",
    "    trt_train = [0] * len(treatment_train)\n",
    "    for i in range(len(treatment_train)):\n",
    "        if treatment_train[i] != 0:\n",
    "            trt_train[i] = 'treatment'\n",
    "        else:\n",
    "            trt_train[i] = 'control'\n",
    "    trt_train = np.array(trt_train)\n",
    "    \n",
    "    for d in depth:\n",
    "        for r in reg:\n",
    "            for j in range(len(min_samples)):\n",
    "                n_samples = min_samples[j]\n",
    "                n_trts = min_trts[j]\n",
    "            \n",
    "                # train the model\n",
    "                model = CausalRuleEnsembling(tree_depth = d, n_reg=r, n_estimator=100, min_samples_leaf = n_samples, min_samples_treatment = n_trts, model_type='rl', lin_standardise=False, random_state = seed,max_iter=5000)\n",
    "                model.fit(X_train, trt_train, y_train, pre_treatment_var)\n",
    "                qini_tree, qini_last = model.eval_qini(X_test, y_test, treatment_test)\n",
    "\n",
    "            \n",
    "                res[idx][0].append(qini_tree)\n",
    "                res[idx][1].append(qini_last)\n",
    "            \n",
    "                res_temp = ['Depth:' + str(d), 'n_reg:'+str(r),'n_samples:'+str(n_samples), 'n_trt:'+str(), 'qini1:'+str(qini_tree), 'qini_final:'+str(qini_last)]\n",
    "                print(','.join(res_temp))\n",
    "                idx += 1\n",
    "    round_idx += 1"
   ]
  },
  {
   "cell_type": "code",
   "execution_count": 16,
   "metadata": {},
   "outputs": [],
   "source": [
    "mu_qini = []\n",
    "mu_qini_tree = []\n",
    "sd_qini = []\n",
    "sd_qini_tree = []\n",
    "for i in range(9):\n",
    "    idx = i+1\n",
    "    mu_qini.append(np.mean(res[idx][1]))\n",
    "    mu_qini_tree.append(np.mean(res[idx][0]))\n",
    "    sd_qini.append(np.std(res[idx][1]))\n",
    "    sd_qini_tree.append(np.mean(res[idx][0]))"
   ]
  },
  {
   "cell_type": "code",
   "execution_count": 17,
   "metadata": {},
   "outputs": [
    {
     "name": "stdout",
     "output_type": "stream",
     "text": [
      "[-0.02580088542331132, -0.01204570389603924, -0.014256697209282729, -0.027753047482507405, -0.009881755690203088, -0.015436437582756441, -0.024398053127706487, -0.012047257150991225, -0.01703784845892397]\n",
      "[-0.026109280058092613, -0.0116801613582252, -0.014046623722128473, -0.028008942885926535, -0.009920475508312999, -0.015900163725434617, -0.021394126270180037, -0.011819498067029664, -0.017640173190694292]\n"
     ]
    }
   ],
   "source": [
    "print(mu_qini)\n",
    "print(mu_qini_tree)"
   ]
  },
  {
   "cell_type": "markdown",
   "metadata": {},
   "source": [
    "- n_reg = 5\n",
    "- minimum_samples_leaf = 80\n",
    "- minimum_treatment_leaf = 30"
   ]
  },
  {
   "cell_type": "markdown",
   "metadata": {},
   "source": [
    "# Final model"
   ]
  },
  {
   "cell_type": "code",
   "execution_count": 18,
   "metadata": {},
   "outputs": [],
   "source": [
    "from uplift_forest_customed import UpliftTreeNew"
   ]
  },
  {
   "cell_type": "code",
   "execution_count": 19,
   "metadata": {},
   "outputs": [
    {
     "data": {
      "text/plain": [
       "(397, 800)"
      ]
     },
     "execution_count": 19,
     "metadata": {},
     "output_type": "execute_result"
    }
   ],
   "source": [
    "sum(df_train['TREATMENT']), len(df_train)"
   ]
  },
  {
   "cell_type": "code",
   "execution_count": 20,
   "metadata": {},
   "outputs": [],
   "source": [
    "train_X = np.array(df_train[pre_treatment_var])\n",
    "test_X = np.array(df_test[pre_treatment_var])\n",
    "train_treatment=(df_train['TREATMENT']!=0).astype(int).values\n",
    "test_treatment=(df_test['TREATMENT']!=0).astype(int).values\n",
    "y_train = (df_train['OUTCOME_mRS90']).values\n",
    "y_test = (df_test['OUTCOME_mRS90']).values\n",
    "y_bin_train = np.array([0] * len(y_train))\n",
    "y_bin_train[np.where(y_train <= 2)] = 1\n",
    "\n",
    "y_bin_test = np.array([0] * len(y_test))\n",
    "y_bin_test[np.where(y_test <= 2)] = 1\n",
    "\n",
    "treatment_train = ['control'] * len(train_treatment)\n",
    "for i in range(len(train_treatment)):\n",
    "    if train_treatment[i] == 1:\n",
    "        treatment_train[i] = 'treatment'\n",
    "treatment_train = np.array(treatment_train)"
   ]
  },
  {
   "cell_type": "code",
   "execution_count": 21,
   "metadata": {},
   "outputs": [],
   "source": [
    "model_tree = UpliftTreeNew(n_reg=5, min_samples_leaf = 80, min_samples_treatment = 30, random_state=100, control_name='control')\n",
    "model_tree.fit(train_X, treatment_train, y_bin_train)"
   ]
  },
  {
   "cell_type": "code",
   "execution_count": 22,
   "metadata": {},
   "outputs": [
    {
     "data": {
      "text/plain": [
       "-0.10869551343553817"
      ]
     },
     "execution_count": 22,
     "metadata": {},
     "output_type": "execute_result"
    }
   ],
   "source": [
    "model_tree.eval_qini(test_X, y_bin_test, test_treatment)"
   ]
  },
  {
   "cell_type": "code",
   "execution_count": 23,
   "metadata": {},
   "outputs": [],
   "source": [
    "rules_tree = model_tree.get_rules()"
   ]
  },
  {
   "cell_type": "code",
   "execution_count": 24,
   "metadata": {},
   "outputs": [
    {
     "data": {
      "text/plain": [
       "2"
      ]
     },
     "execution_count": 24,
     "metadata": {},
     "output_type": "execute_result"
    }
   ],
   "source": [
    "len(rules_tree)"
   ]
  },
  {
   "cell_type": "code",
   "execution_count": 25,
   "metadata": {},
   "outputs": [
    {
     "name": "stdout",
     "output_type": "stream",
     "text": [
      "Seed round: 0 Tree qini: -0.09240202871521223 , Qini: -0.09651595532190302\n",
      "Seed round: 1 Tree qini: -0.05031585647291663 , Qini: -0.0518274844364105\n",
      "Seed round: 5 Tree qini: -0.10053120347192737 , Qini: -0.09971050219229427\n",
      "Seed round: 6 Tree qini: -0.04400682290767284 , Qini: -0.04743250892702362\n",
      "Seed round: 7 Tree qini: -0.08055519582527883 , Qini: -0.07735886807375444\n",
      "Seed round: 8 Tree qini: -0.06757098066277137 , Qini: -0.07009382181028753\n",
      "Seed round: 9 Tree qini: -0.05182958510703443 , Qini: -0.0546893963993483\n",
      "Seed round: 10 Tree qini: -0.04077406798766745 , Qini: -0.03915990686129929\n",
      "Seed round: 11 Tree qini: -0.12352328128921689 , Qini: -0.12536596843659176\n",
      "Seed round: 12 Tree qini: -0.04415614783845404 , Qini: -0.04402673403577505\n",
      "Seed round: 13 Tree qini: -0.054683589138346776 , Qini: -0.05650624692159867\n",
      "Seed round: 14 Tree qini: -0.10584440749584491 , Qini: -0.10674412054313301\n",
      "Seed round: 15 Tree qini: -0.12614827840275888 , Qini: -0.12086640131699657\n",
      "Seed round: 16 Tree qini: -0.033627901894828664 , Qini: -0.03189559779732129\n",
      "Seed round: 17 Tree qini: -0.06411984394225753 , Qini: -0.06028083683005149\n",
      "Seed round: 18 Tree qini: -0.08573703279418357 , Qini: -0.08430449715790582\n",
      "Seed round: 19 Tree qini: -0.10759501946099218 , Qini: -0.10289583421584202\n",
      "Seed round: 20 Tree qini: -0.10792379182607025 , Qini: -0.10641689063156663\n",
      "Seed round: 21 Tree qini: -0.011344236387007588 , Qini: -0.011014876247419763\n",
      "Seed round: 22 Tree qini: -0.07157480431713958 , Qini: -0.07220247272801313\n",
      "Seed round: 23 Tree qini: -0.07049864328508178 , Qini: -0.07612117779980995\n",
      "Seed round: 24 Tree qini: -0.08624318244016653 , Qini: -0.08692077949018481\n",
      "Seed round: 25 Tree qini: -0.09332116098974338 , Qini: -0.09084136750024221\n",
      "Seed round: 26 Tree qini: -0.05753045257418321 , Qini: -0.061407638612626735\n",
      "Seed round: 27 Tree qini: -0.08787681762413767 , Qini: -0.08740725478077835\n",
      "Seed round: 28 Tree qini: -0.08367839694938717 , Qini: -0.08153271617958625\n",
      "Seed round: 29 Tree qini: -0.09041254003791542 , Qini: -0.08799744764328712\n"
     ]
    }
   ],
   "source": [
    "qini_max = -1\n",
    "res = {'res_tree':[], 'res_lasso':[]}\n",
    "for seed in range(30):\n",
    "    model_temp = CausalRuleEnsembling(\n",
    "         tree_depth = 3, \n",
    "         tree_eval_func = 'KL', \n",
    "         n_reg=5, \n",
    "         n_estimator = 100,           \n",
    "         min_samples_leaf = 80, \n",
    "         min_samples_treatment = 30, \n",
    "         model_type='rl', \n",
    "         lin_standardise=False,\n",
    "         random_state = seed)\n",
    "    model_temp.fit(train_X, treatment_train, y_bin_train, pre_treatment_var)\n",
    "    a, b = model_temp.eval_qini(test_X, y_bin_test, test_treatment)\n",
    "    \n",
    "    res['res_tree'].append(a)\n",
    "    res['res_lasso'].append(b)\n",
    "    print('Seed round:', seed, 'Tree qini:',a ,', Qini:', b)\n",
    "    if b > qini_max:\n",
    "        qini_max = b\n",
    "        final_model = model_temp"
   ]
  },
  {
   "cell_type": "code",
   "execution_count": 27,
   "metadata": {},
   "outputs": [
    {
     "data": {
      "text/plain": [
       "(-0.07782866016013966, -0.07757704679560487)"
      ]
     },
     "execution_count": 27,
     "metadata": {},
     "output_type": "execute_result"
    }
   ],
   "source": [
    "np.mean(res['res_tree']),np.mean(res['res_lasso'])"
   ]
  },
  {
   "cell_type": "code",
   "execution_count": 28,
   "metadata": {},
   "outputs": [
    {
     "data": {
      "text/plain": [
       "(0.028990701645846224, 0.02846629630077618)"
      ]
     },
     "execution_count": 28,
     "metadata": {},
     "output_type": "execute_result"
    }
   ],
   "source": [
    "np.std(res['res_tree']),np.std(res['res_lasso'])"
   ]
  },
  {
   "cell_type": "code",
   "execution_count": 29,
   "metadata": {},
   "outputs": [],
   "source": [
    "with open('results/A_tree_mrs2.txt', 'w') as filehandle:\n",
    "    for listitem in res['res_tree']:\n",
    "        filehandle.write(f'{listitem}\\n')"
   ]
  },
  {
   "cell_type": "code",
   "execution_count": 30,
   "metadata": {},
   "outputs": [],
   "source": [
    "with open('results/A_ensemble_mrs2.txt', 'w') as filehandle:\n",
    "    for listitem in res['res_lasso']:\n",
    "        filehandle.write(f'{listitem}\\n')"
   ]
  },
  {
   "cell_type": "code",
   "execution_count": 31,
   "metadata": {},
   "outputs": [],
   "source": [
    "rules = final_model.get_rules()\n",
    "rules = rules[rules['type'] == 'rule']\n",
    "rules_ = rules[(rules['coef'] != 0)]"
   ]
  },
  {
   "cell_type": "code",
   "execution_count": 32,
   "metadata": {},
   "outputs": [
    {
     "data": {
      "text/plain": [
       "(191, 167)"
      ]
     },
     "execution_count": 32,
     "metadata": {},
     "output_type": "execute_result"
    }
   ],
   "source": [
    "len(rules), len(rules_)"
   ]
  },
  {
   "cell_type": "code",
   "execution_count": null,
   "metadata": {},
   "outputs": [],
   "source": []
  }
 ],
 "metadata": {
  "kernelspec": {
   "display_name": "Python 3.7",
   "language": "python",
   "name": "py37"
  },
  "language_info": {
   "codemirror_mode": {
    "name": "ipython",
    "version": 3
   },
   "file_extension": ".py",
   "mimetype": "text/x-python",
   "name": "python",
   "nbconvert_exporter": "python",
   "pygments_lexer": "ipython3",
   "version": "3.7.12"
  }
 },
 "nbformat": 4,
 "nbformat_minor": 4
}
